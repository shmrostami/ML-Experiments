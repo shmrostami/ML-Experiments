{
 "cells": [
  {
   "cell_type": "code",
   "execution_count": 1,
   "id": "b85659f1-7e6f-4762-a79c-d1f0e7fbd99d",
   "metadata": {},
   "outputs": [],
   "source": [
    "from keras.layers import Input, Dense\n",
    "from keras.models import Model\n",
    "from keras.datasets import mnist\n",
    "import numpy as np\n",
    "import matplotlib.pyplot as plt"
   ]
  },
  {
   "cell_type": "markdown",
   "id": "f3fcc077-d8e4-498e-accb-3f91a5ffe30b",
   "metadata": {},
   "source": [
    "<br/>**Prepare our dataset**"
   ]
  },
  {
   "cell_type": "code",
   "execution_count": 2,
   "id": "65e3cb77-f4c7-4d83-9fcd-58ab9b5e645f",
   "metadata": {},
   "outputs": [],
   "source": [
    "# Download dataset\n",
    "(x_train, _), (x_test, _) = mnist.load_data()\n",
    "\n",
    "# Load local dataset\n",
    "# Path is relative to c:/users/<your username>/.keras/datasets\n",
    "#(x_train, _), (x_test, _) = mnist.load_data(path='mnist.npz')"
   ]
  },
  {
   "cell_type": "code",
   "execution_count": 5,
   "id": "03f9a36f-c948-4b41-800d-0c43307b6f99",
   "metadata": {},
   "outputs": [
    {
     "name": "stdout",
     "output_type": "stream",
     "text": [
      "(60000, 784)\n",
      "(10000, 784)\n"
     ]
    }
   ],
   "source": [
    "# normalize all values between 0-1 and we will flatten the images into vectors\n",
    "x_train = x_train.astype('float32') / 255.\n",
    "x_test = x_test.astype('float32') / 255.\n",
    "\n",
    "# reshape (60000, 28, 28) -> (60000, 784)\n",
    "x_train = x_train.reshape((len(x_train), np.prod(x_train.shape[1:])))\n",
    "x_test = x_test.reshape((len(x_test), np.prod(x_test.shape[1:])))\n",
    "print(x_train.shape)\n",
    "print(x_test.shape)"
   ]
  },
  {
   "cell_type": "markdown",
   "id": "b4a0e620-736d-489e-8bc9-2b50302ed0a4",
   "metadata": {},
   "source": [
    "<br/>**Prepare our Model**"
   ]
  },
  {
   "cell_type": "code",
   "execution_count": 4,
   "id": "415f4434-f80d-406e-a48b-4a8d4bfc369a",
   "metadata": {},
   "outputs": [
    {
     "name": "stdout",
     "output_type": "stream",
     "text": [
      "Model: \"model\"\n",
      "_________________________________________________________________\n",
      " Layer (type)                Output Shape              Param #   \n",
      "=================================================================\n",
      " input_1 (InputLayer)        [(None, 784)]             0         \n",
      "                                                                 \n",
      " dense (Dense)               (None, 32)                25120     \n",
      "                                                                 \n",
      " dense_1 (Dense)             (None, 784)               25872     \n",
      "                                                                 \n",
      "=================================================================\n",
      "Total params: 50,992\n",
      "Trainable params: 50,992\n",
      "Non-trainable params: 0\n",
      "_________________________________________________________________\n"
     ]
    }
   ],
   "source": [
    "# this is our input placeholder\n",
    "input_img = Input(shape=(784,))\n",
    "\n",
    "# \"encoded\" is the encoded representation of the input\n",
    "encoded = Dense(32, activation='relu')(input_img)\n",
    "\n",
    "# \"decoded\" is the lossy reconstruction of the input\n",
    "decoded = Dense(784, activation='sigmoid')(encoded)\n",
    "\n",
    "# this model maps an input to its reconstruction\n",
    "autoencoder = Model(input_img, decoded)\n",
    "\n",
    "# compile our model and print a summary of it\n",
    "autoencoder.compile(optimizer='adam', loss='binary_crossentropy')\n",
    "autoencoder.summary()"
   ]
  },
  {
   "cell_type": "markdown",
   "id": "0cf5cf71-9542-4fdf-bf1e-1aef2e2783a1",
   "metadata": {},
   "source": [
    "<br/>**train our autoencoder**"
   ]
  },
  {
   "cell_type": "code",
   "execution_count": 6,
   "id": "d4c7c090-f683-44d6-8139-ff334e43ff42",
   "metadata": {},
   "outputs": [
    {
     "name": "stdout",
     "output_type": "stream",
     "text": [
      "Epoch 1/10\n",
      "235/235 [==============================] - 2s 5ms/step - loss: 0.2750 - val_loss: 0.1873\n",
      "Epoch 2/10\n",
      "235/235 [==============================] - 1s 5ms/step - loss: 0.1703 - val_loss: 0.1542\n",
      "Epoch 3/10\n",
      "235/235 [==============================] - 1s 6ms/step - loss: 0.1447 - val_loss: 0.1340\n",
      "Epoch 4/10\n",
      "235/235 [==============================] - 1s 6ms/step - loss: 0.1287 - val_loss: 0.1214\n",
      "Epoch 5/10\n",
      "235/235 [==============================] - 1s 5ms/step - loss: 0.1184 - val_loss: 0.1131\n",
      "Epoch 6/10\n",
      "235/235 [==============================] - 1s 5ms/step - loss: 0.1113 - val_loss: 0.1070\n",
      "Epoch 7/10\n",
      "235/235 [==============================] - 1s 6ms/step - loss: 0.1061 - val_loss: 0.1026\n",
      "Epoch 8/10\n",
      "235/235 [==============================] - 1s 5ms/step - loss: 0.1023 - val_loss: 0.0994\n",
      "Epoch 9/10\n",
      "235/235 [==============================] - 1s 5ms/step - loss: 0.0995 - val_loss: 0.0971\n",
      "Epoch 10/10\n",
      "235/235 [==============================] - 1s 5ms/step - loss: 0.0976 - val_loss: 0.0956\n"
     ]
    },
    {
     "data": {
      "text/plain": [
       "<keras.callbacks.History at 0x1e097464340>"
      ]
     },
     "execution_count": 6,
     "metadata": {},
     "output_type": "execute_result"
    }
   ],
   "source": [
    "n_epochs = 10\n",
    "autoencoder.fit(x_train, x_train,\n",
    "                epochs=n_epochs,\n",
    "                batch_size=256,\n",
    "                shuffle=True,\n",
    "                validation_data=(x_test, x_test))"
   ]
  },
  {
   "cell_type": "markdown",
   "id": "020a7635-3aac-4b29-87fa-16ac0410f117",
   "metadata": {},
   "source": [
    "<br/>**Visualize our results**"
   ]
  },
  {
   "cell_type": "code",
   "execution_count": 7,
   "id": "e5e56176-3577-4d1e-bfe6-f96d4cadd838",
   "metadata": {},
   "outputs": [
    {
     "data": {
      "image/png": "[encoded data removed]",
      "text/plain": [
       "<Figure size 1440x288 with 20 Axes>"
      ]
     },
     "metadata": {
      "needs_background": "light"
     },
     "output_type": "display_data"
    }
   ],
   "source": [
    "# encode and decode some digits\n",
    "# note that we take them from the *test* set\n",
    "decoded_imgs = autoencoder.predict(x_test)\n",
    "\n",
    "n = 10  # how many digits we will display\n",
    "plt.figure(figsize=(20, 4))\n",
    "for i in range(n):\n",
    "    # display original\n",
    "    ax = plt.subplot(2, n, i + 1)\n",
    "    plt.imshow(x_test[i].reshape(28, 28))\n",
    "    plt.gray()\n",
    "    ax.get_xaxis().set_visible(False)\n",
    "    ax.get_yaxis().set_visible(False)\n",
    "\n",
    "    # display reconstruction\n",
    "    ax = plt.subplot(2, n, i + 1 + n)\n",
    "    plt.imshow(decoded_imgs[i].reshape(28, 28))\n",
    "    plt.gray()\n",
    "    ax.get_xaxis().set_visible(False)\n",
    "    ax.get_yaxis().set_visible(False)\n",
    "plt.show()\n"
   ]
  },
  {
   "cell_type": "code",
   "execution_count": null,
   "id": "bf0deab4-5444-4ec0-91eb-8444e50fcfdb",
   "metadata": {},
   "outputs": [],
   "source": []
  }
 ],
 "metadata": {
  "kernelspec": {
   "display_name": "Python 3 (ipykernel)",
   "language": "python",
   "name": "python3"
  },
  "language_info": {
   "codemirror_mode": {
    "name": "ipython",
    "version": 3
   },
   "file_extension": ".py",
   "mimetype": "text/x-python",
   "name": "python",
   "nbconvert_exporter": "python",
   "pygments_lexer": "ipython3",
   "version": "3.9.7"
  }
 },
 "nbformat": 4,
 "nbformat_minor": 5
}
