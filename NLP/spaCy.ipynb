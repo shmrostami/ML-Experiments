{
 "cells": [
  {
   "cell_type": "markdown",
   "metadata": {
    "id": "LfSbC9lDgAyb"
   },
   "source": [
    "# spaCy"
   ]
  },
  {
   "cell_type": "code",
   "execution_count": 2,
   "metadata": {
    "colab": {
     "base_uri": "https://localhost:8080/"
    },
    "id": "OBWpFA1fKneR",
    "outputId": "29c5d622-b406-4570-ab5b-8e624a1525c8"
   },
   "outputs": [
    {
     "data": {
      "text/plain": [
       "<spacy.lang.en.English at 0x223d1300320>"
      ]
     },
     "execution_count": 2,
     "metadata": {},
     "output_type": "execute_result"
    }
   ],
   "source": [
    "import spacy\n",
    "\n",
    "nlp = spacy.load(\"en_core_web_sm\")\n",
    "# https://spacy.io/models/en#en_core_web_sm\n",
    "\n",
    "nlp"
   ]
  },
  {
   "cell_type": "markdown",
   "metadata": {
    "id": "ESL2Do95gFBN"
   },
   "source": [
    "# Tokenization"
   ]
  },
  {
   "cell_type": "code",
   "execution_count": 3,
   "metadata": {
    "colab": {
     "base_uri": "https://localhost:8080/"
    },
    "id": "Pa5TTPB0K3vH",
    "outputId": "0bee411a-f54b-492a-9950-d2068aff1c8f"
   },
   "outputs": [
    {
     "name": "stdout",
     "output_type": "stream",
     "text": [
      "This\n",
      "tutorial\n",
      "is\n",
      "about\n",
      "Natural\n",
      "Language\n",
      "Processing\n",
      "in\n",
      "spaCy\n",
      ".\n"
     ]
    }
   ],
   "source": [
    "doc1 = nlp(\"This tutorial is about Natural Language Processing in spaCy.\")\n",
    "\n",
    "\n",
    "for token in doc1 :\n",
    "  print(token)\n"
   ]
  },
  {
   "cell_type": "code",
   "execution_count": 4,
   "metadata": {
    "colab": {
     "base_uri": "https://localhost:8080/"
    },
    "id": "Q1FwMZjwMC_V",
    "outputId": "d20a7f71-566d-40fa-c232-2d921c9c22ee"
   },
   "outputs": [
    {
     "name": "stdout",
     "output_type": "stream",
     "text": [
      "This ---- 0\n",
      "tutorial ---- 5\n",
      "is ---- 14\n",
      "about ---- 17\n",
      "Natural ---- 23\n",
      "Language ---- 31\n",
      "Processing ---- 40\n",
      "in ---- 51\n",
      "spaCy ---- 54\n",
      ". ---- 59\n"
     ]
    }
   ],
   "source": [
    "for token in doc1:\n",
    "  print(f'{token.text} ---- {token.idx  }')\n"
   ]
  },
  {
   "cell_type": "code",
   "execution_count": 5,
   "metadata": {
    "colab": {
     "base_uri": "https://localhost:8080/"
    },
    "id": "u_MqiGpMM2Qn",
    "outputId": "7d35e3ef-419c-487a-c9b6-84e8f489deeb"
   },
   "outputs": [
    {
     "name": "stdout",
     "output_type": "stream",
     "text": [
      "This                                               True                           False                          True\n",
      "tutorial                                           True                           False                          False\n",
      "is                                                 True                           False                          True\n",
      "about                                              True                           False                          True\n",
      "Natural                                            True                           False                          False\n",
      "Language                                           True                           False                          False\n",
      "Processing                                         True                           False                          False\n",
      "in                                                 True                           False                          True\n",
      "spaCy                                              True                           False                          False\n",
      ".                                                  False                          True                           False\n"
     ]
    }
   ],
   "source": [
    "for token in doc1:\n",
    "    print(\n",
    "        f\"{token.text:<50}\",\n",
    "        f\"{str(token.is_alpha):<30}\",\n",
    "        f\"{str(token.is_punct):<30}\",\n",
    "        f\"{str(token.is_stop)}\"\n",
    "    )"
   ]
  },
  {
   "cell_type": "code",
   "execution_count": 6,
   "metadata": {
    "colab": {
     "base_uri": "https://localhost:8080/"
    },
    "id": "1IRHPJSIOVCq",
    "outputId": "9d3df536-2358-4e79-b5f5-7b0751a8408c"
   },
   "outputs": [
    {
     "name": "stdout",
     "output_type": "stream",
     "text": [
      "This\n",
      "tutorial\n",
      "is\n",
      "about\n",
      "Natural\n",
      "Language\n",
      "Processing\n",
      "in\n",
      "spaCy.\n"
     ]
    }
   ],
   "source": [
    "from spacy.tokenizer import Tokenizer\n",
    "\n",
    "tokenizer = Tokenizer(nlp.vocab)\n",
    "\n",
    "doc2 = tokenizer(\"This tutorial is about Natural Language Processing in spaCy.\")\n",
    "\n",
    "for token in doc2:\n",
    "    print(token)"
   ]
  },
  {
   "cell_type": "code",
   "execution_count": 7,
   "metadata": {
    "colab": {
     "base_uri": "https://localhost:8080/"
    },
    "id": "Et8YDuimO2n_",
    "outputId": "de016725-81e2-46b0-cfc5-084a4fb3bf70"
   },
   "outputs": [
    {
     "name": "stdout",
     "output_type": "stream",
     "text": [
      "This\n",
      "tutorial\n",
      "is\n",
      "about\n",
      "Natural\n",
      "Language\n",
      "Processing\n",
      "in\n",
      "spaCy\n",
      ".\n",
      "My\n",
      "email\n",
      "is\n",
      "john@doe.com\n"
     ]
    }
   ],
   "source": [
    "doc1 = nlp(\"This tutorial is about Natural Language Processing in spaCy. My email is john@doe.com\")\n",
    "\n",
    "for token in doc1 :\n",
    "  print(token)\n"
   ]
  },
  {
   "cell_type": "code",
   "execution_count": 8,
   "metadata": {
    "colab": {
     "base_uri": "https://localhost:8080/"
    },
    "id": "H1CxYjTdWpFR",
    "outputId": "5fd6354d-9cf7-471b-c6c7-195ece2b0e1f"
   },
   "outputs": [
    {
     "name": "stdout",
     "output_type": "stream",
     "text": [
      "This\n",
      "tutorial\n",
      "is\n",
      "about\n",
      "Natural\n",
      "Language\n",
      "Processing\n",
      "in\n",
      "spaCy.\n",
      "My\n",
      "email\n",
      "is\n",
      "john\n",
      "@\n",
      "doe.com\n"
     ]
    }
   ],
   "source": [
    "import re\n",
    "\n",
    "infix_re = re.compile(\"|\".join(nlp.Defaults.infixes + [\"@\"]))\n",
    "\n",
    "nlp.tokenizer = Tokenizer(\n",
    "    nlp.vocab,\n",
    "    infix_finditer=infix_re.finditer,\n",
    ")\n",
    "\n",
    "doc1 = nlp(\"This tutorial is about Natural Language Processing in spaCy. My email is john@doe.com\")\n",
    "\n",
    "for token in doc1 :\n",
    "  print(token)"
   ]
  },
  {
   "cell_type": "markdown",
   "metadata": {
    "id": "9ZBSq1xngPyl"
   },
   "source": [
    "**Splitting Sentence**"
   ]
  },
  {
   "cell_type": "code",
   "execution_count": 9,
   "metadata": {
    "colab": {
     "base_uri": "https://localhost:8080/"
    },
    "id": "5DSijPk5LfkV",
    "outputId": "9546369e-813f-442c-897c-5066a833a513"
   },
   "outputs": [
    {
     "name": "stdout",
     "output_type": "stream",
     "text": [
      "This is a sentence. This is another sentence.\n",
      "This is the last sentence.\n"
     ]
    }
   ],
   "source": [
    "doc = nlp(\n",
    "    \"This is a sentence. This is another sentence. This is the last sentence.\")\n",
    "for sent in doc.sents:\n",
    "  print(sent)\n"
   ]
  },
  {
   "cell_type": "markdown",
   "metadata": {
    "id": "HxmFJmJygau6"
   },
   "source": [
    "# Removing Stop Words"
   ]
  },
  {
   "cell_type": "code",
   "execution_count": 10,
   "metadata": {
    "colab": {
     "base_uri": "https://localhost:8080/"
    },
    "id": "k6Jl-T9lY5pR",
    "outputId": "96785ff3-effb-45e1-d96f-25ebaeddc2b2"
   },
   "outputs": [
    {
     "name": "stdout",
     "output_type": "stream",
     "text": [
      "<class 'set'> 326\n"
     ]
    }
   ],
   "source": [
    "stopwords = spacy.lang.en.stop_words.STOP_WORDS\n",
    "\n",
    "print(type(stopwords) , len(stopwords))"
   ]
  },
  {
   "cell_type": "code",
   "execution_count": 11,
   "metadata": {
    "colab": {
     "base_uri": "https://localhost:8080/"
    },
    "id": "JPQX6qOyZBzQ",
    "outputId": "d6e25ea1-7d0e-4c9e-aee4-1366ebfc6427"
   },
   "outputs": [
    {
     "name": "stdout",
     "output_type": "stream",
     "text": [
      "onto\n",
      "put\n",
      "whom\n",
      "nevertheless\n",
      "down\n",
      "three\n",
      "please\n",
      "in\n",
      "see\n",
      "two\n"
     ]
    }
   ],
   "source": [
    "for stop_word in list(stopwords)[:10]:\n",
    "     print(stop_word)"
   ]
  },
  {
   "cell_type": "code",
   "execution_count": 12,
   "metadata": {
    "colab": {
     "base_uri": "https://localhost:8080/"
    },
    "id": "ej32f6uwZiy6",
    "outputId": "ba079db0-e6b9-4d7a-957b-6794aa24eb53"
   },
   "outputs": [
    {
     "name": "stdout",
     "output_type": "stream",
     "text": [
      "[ , stop, words, typically, defined, common, words, language., In, English, language,, examples, stop, words, \n",
      ", Most, sentences, need, contain, stop, words, order, sentences, grammatical, sense., \n",
      "]\n"
     ]
    }
   ],
   "source": [
    "text = ''' stop words are typically defined as the most common words in a language. In the English language, some examples of stop words are the are but and they\n",
    "Most sentences need to contain stop words in order to be full sentences that make grammatical sense.\n",
    "'''\n",
    "doc2 = nlp(text)\n",
    "\n",
    "print([token for token in doc2 if  token.text not in stopwords])"
   ]
  },
  {
   "cell_type": "markdown",
   "metadata": {
    "id": "m9G5i4e4dfE0"
   },
   "source": [
    "# Lemmatization"
   ]
  },
  {
   "cell_type": "code",
   "execution_count": 13,
   "metadata": {
    "colab": {
     "base_uri": "https://localhost:8080/"
    },
    "id": "dcRpf1mPc-1H",
    "outputId": "34699863-71c9-4293-90a6-b4524fd104fe"
   },
   "outputs": [
    {
     "name": "stdout",
     "output_type": "stream",
     "text": [
      "Lemmatization                            : lemmatization                  :                                           438229042533536439\n",
      "is                                       : be                             :                                         10382539506755952630\n",
      "reducing                                 : reduce                         :                                         13655207319209475655\n",
      "inflected                                : inflect                        :                                          6529725988763922079\n",
      "forms                                    : form                           :                                         16052413196044414349\n",
      "ensuring                                 : ensure                         :                                         15159758025291269046\n",
      "reduced                                  : reduce                         :                                         13655207319209475655\n",
      "belongs                                  : belong                         :                                          6990553197579085743\n",
      "This                                     : this                           :                                          1995909169258310477\n",
      "reduced                                  : reduce                         :                                         13655207319209475655\n",
      "is                                       : be                             :                                         10382539506755952630\n",
      "called                                   : call                           :                                         14229572451745258962\n",
      "went                                     : go                             :                                          8004577259940138793\n"
     ]
    }
   ],
   "source": [
    "text = ('''Lemmatization is the process of reducing inflected forms of a word while still ensuring that the reduced form belongs to the language.\n",
    "This reduced form, or root word, is called a lemma went'''\n",
    ")\n",
    "doc3 = nlp(text)\n",
    "\n",
    "for token in doc3:\n",
    "     if str(token) != str(token.lemma_):\n",
    "         print(f\"{str(token):<40} : {str(token.lemma_):<30} : {str(token.lemma):>60}\")"
   ]
  },
  {
   "cell_type": "code",
   "execution_count": 14,
   "metadata": {
    "colab": {
     "base_uri": "https://localhost:8080/"
    },
    "id": "AqU97n1vhXTy",
    "outputId": "2de4bbd3-982f-4278-8566-b769626381ef"
   },
   "outputs": [
    {
     "name": "stdout",
     "output_type": "stream",
     "text": [
      "lemmatization be the process of reduce inflect form of a word while still ensure that the reduce form belong to the language. \n",
      " this reduce form, or root word, be call a lemma go\n"
     ]
    }
   ],
   "source": [
    "print(\" \".join([token.lemma_ for token in doc3]))"
   ]
  },
  {
   "cell_type": "markdown",
   "metadata": {
    "id": "Rptw-o9Cd26t"
   },
   "source": [
    "# Part-of-Speech Tagging\n"
   ]
  },
  {
   "cell_type": "code",
   "execution_count": 15,
   "metadata": {
    "colab": {
     "base_uri": "https://localhost:8080/"
    },
    "id": "2zZz6CR_d4f0",
    "outputId": "e6d0f617-086c-48b1-95b5-944fa043bc63"
   },
   "outputs": [
    {
     "name": "stdout",
     "output_type": "stream",
     "text": [
      " TOKEN: Part              TAG: NN           POS: NOUN        EXPLANATION: noun, singular or mass\n",
      " TOKEN: -                 TAG: HYPH         POS: PUNCT       EXPLANATION: punctuation mark, hyphen\n",
      " TOKEN: of                TAG: IN           POS: ADP         EXPLANATION: conjunction, subordinating or preposition\n",
      " TOKEN: -                 TAG: HYPH         POS: PUNCT       EXPLANATION: punctuation mark, hyphen\n",
      " TOKEN: speech            TAG: NN           POS: NOUN        EXPLANATION: noun, singular or mass\n",
      " TOKEN: tagging           TAG: NN           POS: NOUN        EXPLANATION: noun, singular or mass\n",
      " TOKEN: is                TAG: VBZ          POS: AUX         EXPLANATION: verb, 3rd person singular present\n",
      " TOKEN: the               TAG: DT           POS: DET         EXPLANATION: determiner\n",
      " TOKEN: process           TAG: NN           POS: NOUN        EXPLANATION: noun, singular or mass\n",
      " TOKEN: of                TAG: IN           POS: ADP         EXPLANATION: conjunction, subordinating or preposition\n",
      " TOKEN: assigning         TAG: VBG          POS: VERB        EXPLANATION: verb, gerund or present participle\n",
      " TOKEN: a                 TAG: DT           POS: DET         EXPLANATION: determiner\n",
      " TOKEN: POS               TAG: NNP          POS: PROPN       EXPLANATION: noun, proper singular\n",
      " TOKEN: tag               TAG: NN           POS: NOUN        EXPLANATION: noun, singular or mass\n",
      " TOKEN: to                TAG: IN           POS: ADP         EXPLANATION: conjunction, subordinating or preposition\n",
      " TOKEN: each              TAG: DT           POS: PRON        EXPLANATION: determiner\n",
      " TOKEN: token             TAG: VBN          POS: VERB        EXPLANATION: verb, past participle\n",
      " TOKEN: depending         TAG: VBG          POS: VERB        EXPLANATION: verb, gerund or present participle\n",
      " TOKEN: on                TAG: IN           POS: ADP         EXPLANATION: conjunction, subordinating or preposition\n",
      " TOKEN: its               TAG: PRP$         POS: PRON        EXPLANATION: pronoun, possessive\n",
      " TOKEN: usage             TAG: NN           POS: NOUN        EXPLANATION: noun, singular or mass\n",
      " TOKEN: in                TAG: IN           POS: ADP         EXPLANATION: conjunction, subordinating or preposition\n",
      " TOKEN: the               TAG: DT           POS: DET         EXPLANATION: determiner\n",
      " TOKEN: sentence.         TAG: NN           POS: NOUN        EXPLANATION: noun, singular or mass\n",
      " TOKEN: \n",
      "                 TAG: _SP          POS: SPACE       EXPLANATION: whitespace\n"
     ]
    }
   ],
   "source": [
    "text = '''Part-of-speech tagging is the process of assigning a POS tag to each token depending on its usage in the sentence.\n",
    "'''\n",
    "\n",
    "doc4 = nlp(text)\n",
    "\n",
    "\n",
    "for token in doc4:\n",
    "     print(f\"\"\" TOKEN: {str(token):15}   TAG: {str(token.tag_):10}   POS: {token.pos_:10}  EXPLANATION: {spacy.explain(token.tag_):>10}\"\"\"\n",
    " )"
   ]
  },
  {
   "cell_type": "code",
   "execution_count": 16,
   "metadata": {
    "colab": {
     "base_uri": "https://localhost:8080/"
    },
    "id": "nIEy7IGmfcWo",
    "outputId": "2072564b-f36a-46e9-c9c0-902551cdba9e"
   },
   "outputs": [
    {
     "name": "stdout",
     "output_type": "stream",
     "text": [
      "[Part, speech, tagging, process, tag, usage, sentence.]\n",
      "[]\n"
     ]
    }
   ],
   "source": [
    "nouns = []\n",
    "adjectives = []\n",
    "for token in doc4:\n",
    "     if token.pos_ == \"NOUN\":\n",
    "         nouns.append(token)\n",
    "     if token.pos_ == \"ADJ\":\n",
    "         adjectives.append(token)\n",
    "\n",
    "print(nouns)\n",
    "print(adjectives)"
   ]
  },
  {
   "cell_type": "markdown",
   "metadata": {
    "id": "6mMdXmKOh3pc"
   },
   "source": [
    "# Named Entity Recognition (NER)"
   ]
  },
  {
   "cell_type": "code",
   "execution_count": null,
   "metadata": {
    "id": "r3jfrCRxssmz"
   },
   "outputs": [],
   "source": []
  },
  {
   "cell_type": "code",
   "execution_count": 17,
   "metadata": {
    "colab": {
     "base_uri": "https://localhost:8080/"
    },
    "id": "jOpRT9QZh-PY",
    "outputId": "62b884fe-09aa-4ec9-c0b8-87ab8a6bb82b"
   },
   "outputs": [
    {
     "name": "stdout",
     "output_type": "stream",
     "text": [
      " Toekn : Elon Musk                                Label: PERSON                                    Explaination := People, including fictional\n",
      " Toekn : Tesla                                    Label: ORG                                       Explaination := Companies, agencies, institutions, etc.\n",
      " Toekn : South Africa                             Label: GPE                                       Explaination := Countries, cities, states\n",
      " Toekn : the United States                        Label: GPE                                       Explaination := Countries, cities, states\n",
      " Toekn : Tesla Motors                             Label: ORG                                       Explaination := Companies, agencies, institutions, etc.\n",
      " Toekn : 2003                                     Label: DATE                                      Explaination := Absolute or relative dates or periods\n",
      " Toekn : 2002.                                    Label: CARDINAL                                  Explaination := Numerals that do not fall under another type\n"
     ]
    }
   ],
   "source": [
    "text = \" Elon Musk , CEO of Tesla , was born in South Africa and moved to the United States in 1992. He founded Tesla Motors in 2003 and SpaceX in 2002.\"\n",
    "\n",
    "doc5 = nlp(text)\n",
    "\n",
    "for ent in doc5.ents :\n",
    "     print(f\"\"\" Toekn : {ent.text :40} Label: {ent.label_  :<40}  Explaination := {spacy.explain(ent.label_):<20}\"\"\"\n",
    " )"
   ]
  },
  {
   "cell_type": "code",
   "execution_count": 18,
   "metadata": {
    "colab": {
     "base_uri": "https://localhost:8080/"
    },
    "id": "d0gp2woCsdx8",
    "outputId": "58761d99-2d42-4d03-ba3b-d4ac534c900f"
   },
   "outputs": [
    {
     "name": "stdout",
     "output_type": "stream",
     "text": [
      "['Tesla', 'Tesla Motors']\n",
      "['Elon Musk']\n"
     ]
    }
   ],
   "source": [
    "org = []\n",
    "person = []\n",
    "for ent in doc5.ents:\n",
    "     if ent.label_ == \"ORG\":\n",
    "         org.append(ent.text)\n",
    "     if ent.label_ == \"PERSON\":\n",
    "         person.append(ent.text)\n",
    "\n",
    "print(org)\n",
    "print(person)"
   ]
  },
  {
   "cell_type": "markdown",
   "metadata": {
    "id": "ZgL6HVFwf2tW"
   },
   "source": [
    "# Visualization"
   ]
  },
  {
   "cell_type": "code",
   "execution_count": 19,
   "metadata": {
    "colab": {
     "base_uri": "https://localhost:8080/",
     "height": 440
    },
    "id": "ZOVZ-bBDf2Bn",
    "outputId": "8d82b53d-f4c0-45e9-88c6-6716e2022b22"
   },
   "outputs": [
    {
     "data": {
      "text/html": [
       "<span class=\"tex2jax_ignore\"><svg xmlns=\"http://www.w3.org/2000/svg\" xmlns:xlink=\"http://www.w3.org/1999/xlink\" xml:lang=\"en\" id=\"1a23d7fa02d64629b7b3a78ca8cf0ffa-0\" class=\"displacy\" width=\"1450\" height=\"399.5\" direction=\"ltr\" style=\"max-width: none; height: 399.5px; color: #000000; background: #ffffff; font-family: Arial; direction: ltr\">\n",
       "<text class=\"displacy-token\" fill=\"currentColor\" text-anchor=\"middle\" y=\"309.5\">\n",
       "    <tspan class=\"displacy-word\" fill=\"currentColor\" x=\"50\">He</tspan>\n",
       "    <tspan class=\"displacy-tag\" dy=\"2em\" fill=\"currentColor\" x=\"50\">PRON</tspan>\n",
       "</text>\n",
       "\n",
       "<text class=\"displacy-token\" fill=\"currentColor\" text-anchor=\"middle\" y=\"309.5\">\n",
       "    <tspan class=\"displacy-word\" fill=\"currentColor\" x=\"225\">is</tspan>\n",
       "    <tspan class=\"displacy-tag\" dy=\"2em\" fill=\"currentColor\" x=\"225\">AUX</tspan>\n",
       "</text>\n",
       "\n",
       "<text class=\"displacy-token\" fill=\"currentColor\" text-anchor=\"middle\" y=\"309.5\">\n",
       "    <tspan class=\"displacy-word\" fill=\"currentColor\" x=\"400\">interested</tspan>\n",
       "    <tspan class=\"displacy-tag\" dy=\"2em\" fill=\"currentColor\" x=\"400\">ADJ</tspan>\n",
       "</text>\n",
       "\n",
       "<text class=\"displacy-token\" fill=\"currentColor\" text-anchor=\"middle\" y=\"309.5\">\n",
       "    <tspan class=\"displacy-word\" fill=\"currentColor\" x=\"575\">in</tspan>\n",
       "    <tspan class=\"displacy-tag\" dy=\"2em\" fill=\"currentColor\" x=\"575\">ADP</tspan>\n",
       "</text>\n",
       "\n",
       "<text class=\"displacy-token\" fill=\"currentColor\" text-anchor=\"middle\" y=\"309.5\">\n",
       "    <tspan class=\"displacy-word\" fill=\"currentColor\" x=\"750\">learning</tspan>\n",
       "    <tspan class=\"displacy-tag\" dy=\"2em\" fill=\"currentColor\" x=\"750\">VERB</tspan>\n",
       "</text>\n",
       "\n",
       "<text class=\"displacy-token\" fill=\"currentColor\" text-anchor=\"middle\" y=\"309.5\">\n",
       "    <tspan class=\"displacy-word\" fill=\"currentColor\" x=\"925\">Natural</tspan>\n",
       "    <tspan class=\"displacy-tag\" dy=\"2em\" fill=\"currentColor\" x=\"925\">PROPN</tspan>\n",
       "</text>\n",
       "\n",
       "<text class=\"displacy-token\" fill=\"currentColor\" text-anchor=\"middle\" y=\"309.5\">\n",
       "    <tspan class=\"displacy-word\" fill=\"currentColor\" x=\"1100\">Language</tspan>\n",
       "    <tspan class=\"displacy-tag\" dy=\"2em\" fill=\"currentColor\" x=\"1100\">PROPN</tspan>\n",
       "</text>\n",
       "\n",
       "<text class=\"displacy-token\" fill=\"currentColor\" text-anchor=\"middle\" y=\"309.5\">\n",
       "    <tspan class=\"displacy-word\" fill=\"currentColor\" x=\"1275\">Processing.</tspan>\n",
       "    <tspan class=\"displacy-tag\" dy=\"2em\" fill=\"currentColor\" x=\"1275\">PROPN</tspan>\n",
       "</text>\n",
       "\n",
       "<g class=\"displacy-arrow\">\n",
       "    <path class=\"displacy-arc\" id=\"arrow-1a23d7fa02d64629b7b3a78ca8cf0ffa-0-0\" stroke-width=\"2px\" d=\"M70,264.5 C70,177.0 215.0,177.0 215.0,264.5\" fill=\"none\" stroke=\"currentColor\"/>\n",
       "    <text dy=\"1.25em\" style=\"font-size: 0.8em; letter-spacing: 1px\">\n",
       "        <textPath xlink:href=\"#arrow-1a23d7fa02d64629b7b3a78ca8cf0ffa-0-0\" class=\"displacy-label\" startOffset=\"50%\" side=\"left\" fill=\"currentColor\" text-anchor=\"middle\">nsubj</textPath>\n",
       "    </text>\n",
       "    <path class=\"displacy-arrowhead\" d=\"M70,266.5 L62,254.5 78,254.5\" fill=\"currentColor\"/>\n",
       "</g>\n",
       "\n",
       "<g class=\"displacy-arrow\">\n",
       "    <path class=\"displacy-arc\" id=\"arrow-1a23d7fa02d64629b7b3a78ca8cf0ffa-0-1\" stroke-width=\"2px\" d=\"M245,264.5 C245,177.0 390.0,177.0 390.0,264.5\" fill=\"none\" stroke=\"currentColor\"/>\n",
       "    <text dy=\"1.25em\" style=\"font-size: 0.8em; letter-spacing: 1px\">\n",
       "        <textPath xlink:href=\"#arrow-1a23d7fa02d64629b7b3a78ca8cf0ffa-0-1\" class=\"displacy-label\" startOffset=\"50%\" side=\"left\" fill=\"currentColor\" text-anchor=\"middle\">acomp</textPath>\n",
       "    </text>\n",
       "    <path class=\"displacy-arrowhead\" d=\"M390.0,266.5 L398.0,254.5 382.0,254.5\" fill=\"currentColor\"/>\n",
       "</g>\n",
       "\n",
       "<g class=\"displacy-arrow\">\n",
       "    <path class=\"displacy-arc\" id=\"arrow-1a23d7fa02d64629b7b3a78ca8cf0ffa-0-2\" stroke-width=\"2px\" d=\"M420,264.5 C420,177.0 565.0,177.0 565.0,264.5\" fill=\"none\" stroke=\"currentColor\"/>\n",
       "    <text dy=\"1.25em\" style=\"font-size: 0.8em; letter-spacing: 1px\">\n",
       "        <textPath xlink:href=\"#arrow-1a23d7fa02d64629b7b3a78ca8cf0ffa-0-2\" class=\"displacy-label\" startOffset=\"50%\" side=\"left\" fill=\"currentColor\" text-anchor=\"middle\">prep</textPath>\n",
       "    </text>\n",
       "    <path class=\"displacy-arrowhead\" d=\"M565.0,266.5 L573.0,254.5 557.0,254.5\" fill=\"currentColor\"/>\n",
       "</g>\n",
       "\n",
       "<g class=\"displacy-arrow\">\n",
       "    <path class=\"displacy-arc\" id=\"arrow-1a23d7fa02d64629b7b3a78ca8cf0ffa-0-3\" stroke-width=\"2px\" d=\"M595,264.5 C595,177.0 740.0,177.0 740.0,264.5\" fill=\"none\" stroke=\"currentColor\"/>\n",
       "    <text dy=\"1.25em\" style=\"font-size: 0.8em; letter-spacing: 1px\">\n",
       "        <textPath xlink:href=\"#arrow-1a23d7fa02d64629b7b3a78ca8cf0ffa-0-3\" class=\"displacy-label\" startOffset=\"50%\" side=\"left\" fill=\"currentColor\" text-anchor=\"middle\">pcomp</textPath>\n",
       "    </text>\n",
       "    <path class=\"displacy-arrowhead\" d=\"M740.0,266.5 L748.0,254.5 732.0,254.5\" fill=\"currentColor\"/>\n",
       "</g>\n",
       "\n",
       "<g class=\"displacy-arrow\">\n",
       "    <path class=\"displacy-arc\" id=\"arrow-1a23d7fa02d64629b7b3a78ca8cf0ffa-0-4\" stroke-width=\"2px\" d=\"M945,264.5 C945,177.0 1090.0,177.0 1090.0,264.5\" fill=\"none\" stroke=\"currentColor\"/>\n",
       "    <text dy=\"1.25em\" style=\"font-size: 0.8em; letter-spacing: 1px\">\n",
       "        <textPath xlink:href=\"#arrow-1a23d7fa02d64629b7b3a78ca8cf0ffa-0-4\" class=\"displacy-label\" startOffset=\"50%\" side=\"left\" fill=\"currentColor\" text-anchor=\"middle\">compound</textPath>\n",
       "    </text>\n",
       "    <path class=\"displacy-arrowhead\" d=\"M945,266.5 L937,254.5 953,254.5\" fill=\"currentColor\"/>\n",
       "</g>\n",
       "\n",
       "<g class=\"displacy-arrow\">\n",
       "    <path class=\"displacy-arc\" id=\"arrow-1a23d7fa02d64629b7b3a78ca8cf0ffa-0-5\" stroke-width=\"2px\" d=\"M770,264.5 C770,89.5 1095.0,89.5 1095.0,264.5\" fill=\"none\" stroke=\"currentColor\"/>\n",
       "    <text dy=\"1.25em\" style=\"font-size: 0.8em; letter-spacing: 1px\">\n",
       "        <textPath xlink:href=\"#arrow-1a23d7fa02d64629b7b3a78ca8cf0ffa-0-5\" class=\"displacy-label\" startOffset=\"50%\" side=\"left\" fill=\"currentColor\" text-anchor=\"middle\">dobj</textPath>\n",
       "    </text>\n",
       "    <path class=\"displacy-arrowhead\" d=\"M1095.0,266.5 L1103.0,254.5 1087.0,254.5\" fill=\"currentColor\"/>\n",
       "</g>\n",
       "\n",
       "<g class=\"displacy-arrow\">\n",
       "    <path class=\"displacy-arc\" id=\"arrow-1a23d7fa02d64629b7b3a78ca8cf0ffa-0-6\" stroke-width=\"2px\" d=\"M245,264.5 C245,2.0 1275.0,2.0 1275.0,264.5\" fill=\"none\" stroke=\"currentColor\"/>\n",
       "    <text dy=\"1.25em\" style=\"font-size: 0.8em; letter-spacing: 1px\">\n",
       "        <textPath xlink:href=\"#arrow-1a23d7fa02d64629b7b3a78ca8cf0ffa-0-6\" class=\"displacy-label\" startOffset=\"50%\" side=\"left\" fill=\"currentColor\" text-anchor=\"middle\">punct</textPath>\n",
       "    </text>\n",
       "    <path class=\"displacy-arrowhead\" d=\"M1275.0,266.5 L1283.0,254.5 1267.0,254.5\" fill=\"currentColor\"/>\n",
       "</g>\n",
       "</svg></span>"
      ],
      "text/plain": [
       "<IPython.core.display.HTML object>"
      ]
     },
     "metadata": {},
     "output_type": "display_data"
    }
   ],
   "source": [
    "from spacy import displacy\n",
    "\n",
    "text = \"He is interested in learning Natural Language Processing.\"\n",
    "doc6 = nlp(text)\n",
    "\n",
    "\n",
    "displacy.render(doc6, style=\"dep\" , jupyter=True)"
   ]
  },
  {
   "cell_type": "code",
   "execution_count": 20,
   "metadata": {
    "colab": {
     "base_uri": "https://localhost:8080/",
     "height": 403
    },
    "id": "PxtoGsonx1Wo",
    "outputId": "252d734a-3c45-40f0-e521-9c94cc11fcfe"
   },
   "outputs": [
    {
     "data": {
      "text/html": [
       "<span class=\"tex2jax_ignore\"><svg xmlns=\"http://www.w3.org/2000/svg\" xmlns:xlink=\"http://www.w3.org/1999/xlink\" xml:lang=\"en\" id=\"84c5521b50514fe59992fda815a9b22b-0\" class=\"displacy\" width=\"1250\" height=\"362.0\" direction=\"ltr\" style=\"max-width: none; height: 362.0px; color: #FFFFFF; background: #09a3d5; font-family: Source Sans Pro; direction: ltr\">\n",
       "<text class=\"displacy-token\" fill=\"currentColor\" text-anchor=\"middle\" y=\"272.0\">\n",
       "    <tspan class=\"displacy-word\" fill=\"currentColor\" x=\"50\">He</tspan>\n",
       "    <tspan class=\"displacy-tag\" dy=\"2em\" fill=\"currentColor\" x=\"50\">PRON</tspan>\n",
       "</text>\n",
       "\n",
       "<text class=\"displacy-token\" fill=\"currentColor\" text-anchor=\"middle\" y=\"272.0\">\n",
       "    <tspan class=\"displacy-word\" fill=\"currentColor\" x=\"200\">is</tspan>\n",
       "    <tspan class=\"displacy-tag\" dy=\"2em\" fill=\"currentColor\" x=\"200\">AUX</tspan>\n",
       "</text>\n",
       "\n",
       "<text class=\"displacy-token\" fill=\"currentColor\" text-anchor=\"middle\" y=\"272.0\">\n",
       "    <tspan class=\"displacy-word\" fill=\"currentColor\" x=\"350\">interested</tspan>\n",
       "    <tspan class=\"displacy-tag\" dy=\"2em\" fill=\"currentColor\" x=\"350\">ADJ</tspan>\n",
       "</text>\n",
       "\n",
       "<text class=\"displacy-token\" fill=\"currentColor\" text-anchor=\"middle\" y=\"272.0\">\n",
       "    <tspan class=\"displacy-word\" fill=\"currentColor\" x=\"500\">in</tspan>\n",
       "    <tspan class=\"displacy-tag\" dy=\"2em\" fill=\"currentColor\" x=\"500\">ADP</tspan>\n",
       "</text>\n",
       "\n",
       "<text class=\"displacy-token\" fill=\"currentColor\" text-anchor=\"middle\" y=\"272.0\">\n",
       "    <tspan class=\"displacy-word\" fill=\"currentColor\" x=\"650\">learning</tspan>\n",
       "    <tspan class=\"displacy-tag\" dy=\"2em\" fill=\"currentColor\" x=\"650\">VERB</tspan>\n",
       "</text>\n",
       "\n",
       "<text class=\"displacy-token\" fill=\"currentColor\" text-anchor=\"middle\" y=\"272.0\">\n",
       "    <tspan class=\"displacy-word\" fill=\"currentColor\" x=\"800\">Natural</tspan>\n",
       "    <tspan class=\"displacy-tag\" dy=\"2em\" fill=\"currentColor\" x=\"800\">PROPN</tspan>\n",
       "</text>\n",
       "\n",
       "<text class=\"displacy-token\" fill=\"currentColor\" text-anchor=\"middle\" y=\"272.0\">\n",
       "    <tspan class=\"displacy-word\" fill=\"currentColor\" x=\"950\">Language</tspan>\n",
       "    <tspan class=\"displacy-tag\" dy=\"2em\" fill=\"currentColor\" x=\"950\">PROPN</tspan>\n",
       "</text>\n",
       "\n",
       "<text class=\"displacy-token\" fill=\"currentColor\" text-anchor=\"middle\" y=\"272.0\">\n",
       "    <tspan class=\"displacy-word\" fill=\"currentColor\" x=\"1100\">Processing.</tspan>\n",
       "    <tspan class=\"displacy-tag\" dy=\"2em\" fill=\"currentColor\" x=\"1100\">PROPN</tspan>\n",
       "</text>\n",
       "\n",
       "<g class=\"displacy-arrow\">\n",
       "    <path class=\"displacy-arc\" id=\"arrow-84c5521b50514fe59992fda815a9b22b-0-0\" stroke-width=\"2px\" d=\"M62,227.0 62,202.0 194.0,202.0 194.0,227.0\" fill=\"none\" stroke=\"currentColor\"/>\n",
       "    <text dy=\"1.25em\" style=\"font-size: 0.8em; letter-spacing: 1px\">\n",
       "        <textPath xlink:href=\"#arrow-84c5521b50514fe59992fda815a9b22b-0-0\" class=\"displacy-label\" startOffset=\"50%\" side=\"left\" fill=\"currentColor\" text-anchor=\"middle\">nsubj</textPath>\n",
       "    </text>\n",
       "    <path class=\"displacy-arrowhead\" d=\"M62,229.0 L58,221.0 66,221.0\" fill=\"currentColor\"/>\n",
       "</g>\n",
       "\n",
       "<g class=\"displacy-arrow\">\n",
       "    <path class=\"displacy-arc\" id=\"arrow-84c5521b50514fe59992fda815a9b22b-0-1\" stroke-width=\"2px\" d=\"M212,227.0 212,202.0 344.0,202.0 344.0,227.0\" fill=\"none\" stroke=\"currentColor\"/>\n",
       "    <text dy=\"1.25em\" style=\"font-size: 0.8em; letter-spacing: 1px\">\n",
       "        <textPath xlink:href=\"#arrow-84c5521b50514fe59992fda815a9b22b-0-1\" class=\"displacy-label\" startOffset=\"50%\" side=\"left\" fill=\"currentColor\" text-anchor=\"middle\">acomp</textPath>\n",
       "    </text>\n",
       "    <path class=\"displacy-arrowhead\" d=\"M344.0,229.0 L348.0,221.0 340.0,221.0\" fill=\"currentColor\"/>\n",
       "</g>\n",
       "\n",
       "<g class=\"displacy-arrow\">\n",
       "    <path class=\"displacy-arc\" id=\"arrow-84c5521b50514fe59992fda815a9b22b-0-2\" stroke-width=\"2px\" d=\"M362,227.0 362,202.0 494.0,202.0 494.0,227.0\" fill=\"none\" stroke=\"currentColor\"/>\n",
       "    <text dy=\"1.25em\" style=\"font-size: 0.8em; letter-spacing: 1px\">\n",
       "        <textPath xlink:href=\"#arrow-84c5521b50514fe59992fda815a9b22b-0-2\" class=\"displacy-label\" startOffset=\"50%\" side=\"left\" fill=\"currentColor\" text-anchor=\"middle\">prep</textPath>\n",
       "    </text>\n",
       "    <path class=\"displacy-arrowhead\" d=\"M494.0,229.0 L498.0,221.0 490.0,221.0\" fill=\"currentColor\"/>\n",
       "</g>\n",
       "\n",
       "<g class=\"displacy-arrow\">\n",
       "    <path class=\"displacy-arc\" id=\"arrow-84c5521b50514fe59992fda815a9b22b-0-3\" stroke-width=\"2px\" d=\"M512,227.0 512,202.0 644.0,202.0 644.0,227.0\" fill=\"none\" stroke=\"currentColor\"/>\n",
       "    <text dy=\"1.25em\" style=\"font-size: 0.8em; letter-spacing: 1px\">\n",
       "        <textPath xlink:href=\"#arrow-84c5521b50514fe59992fda815a9b22b-0-3\" class=\"displacy-label\" startOffset=\"50%\" side=\"left\" fill=\"currentColor\" text-anchor=\"middle\">pcomp</textPath>\n",
       "    </text>\n",
       "    <path class=\"displacy-arrowhead\" d=\"M644.0,229.0 L648.0,221.0 640.0,221.0\" fill=\"currentColor\"/>\n",
       "</g>\n",
       "\n",
       "<g class=\"displacy-arrow\">\n",
       "    <path class=\"displacy-arc\" id=\"arrow-84c5521b50514fe59992fda815a9b22b-0-4\" stroke-width=\"2px\" d=\"M812,227.0 812,202.0 944.0,202.0 944.0,227.0\" fill=\"none\" stroke=\"currentColor\"/>\n",
       "    <text dy=\"1.25em\" style=\"font-size: 0.8em; letter-spacing: 1px\">\n",
       "        <textPath xlink:href=\"#arrow-84c5521b50514fe59992fda815a9b22b-0-4\" class=\"displacy-label\" startOffset=\"50%\" side=\"left\" fill=\"currentColor\" text-anchor=\"middle\">compound</textPath>\n",
       "    </text>\n",
       "    <path class=\"displacy-arrowhead\" d=\"M812,229.0 L808,221.0 816,221.0\" fill=\"currentColor\"/>\n",
       "</g>\n",
       "\n",
       "<g class=\"displacy-arrow\">\n",
       "    <path class=\"displacy-arc\" id=\"arrow-84c5521b50514fe59992fda815a9b22b-0-5\" stroke-width=\"2px\" d=\"M662,227.0 662,177.0 947.0,177.0 947.0,227.0\" fill=\"none\" stroke=\"currentColor\"/>\n",
       "    <text dy=\"1.25em\" style=\"font-size: 0.8em; letter-spacing: 1px\">\n",
       "        <textPath xlink:href=\"#arrow-84c5521b50514fe59992fda815a9b22b-0-5\" class=\"displacy-label\" startOffset=\"50%\" side=\"left\" fill=\"currentColor\" text-anchor=\"middle\">dobj</textPath>\n",
       "    </text>\n",
       "    <path class=\"displacy-arrowhead\" d=\"M947.0,229.0 L951.0,221.0 943.0,221.0\" fill=\"currentColor\"/>\n",
       "</g>\n",
       "\n",
       "<g class=\"displacy-arrow\">\n",
       "    <path class=\"displacy-arc\" id=\"arrow-84c5521b50514fe59992fda815a9b22b-0-6\" stroke-width=\"2px\" d=\"M212,227.0 212,152.0 1100.0,152.0 1100.0,227.0\" fill=\"none\" stroke=\"currentColor\"/>\n",
       "    <text dy=\"1.25em\" style=\"font-size: 0.8em; letter-spacing: 1px\">\n",
       "        <textPath xlink:href=\"#arrow-84c5521b50514fe59992fda815a9b22b-0-6\" class=\"displacy-label\" startOffset=\"50%\" side=\"left\" fill=\"currentColor\" text-anchor=\"middle\">punct</textPath>\n",
       "    </text>\n",
       "    <path class=\"displacy-arrowhead\" d=\"M1100.0,229.0 L1104.0,221.0 1096.0,221.0\" fill=\"currentColor\"/>\n",
       "</g>\n",
       "</svg></span>"
      ],
      "text/plain": [
       "<IPython.core.display.HTML object>"
      ]
     },
     "metadata": {},
     "output_type": "display_data"
    }
   ],
   "source": [
    "# Define a color scheme for the visualization\n",
    "options = {\n",
    "    'compact': True,\n",
    "    'bg': '#09a3d5',  # Background color\n",
    "    'color': '#FFFFFF',  # Arrow color\n",
    "    'font': 'Source Sans Pro',\n",
    "    'node_color': '#fa8072',  # Node background color\n",
    "    'edge_color': '#ffffff'  # Edge/arrow color\n",
    "}\n",
    "\n",
    "displacy.render(doc6, style=\"dep\", options=options, jupyter=True)"
   ]
  },
  {
   "cell_type": "code",
   "execution_count": null,
   "metadata": {},
   "outputs": [],
   "source": []
  }
 ],
 "metadata": {
  "colab": {
   "provenance": []
  },
  "kernelspec": {
   "display_name": "Python 3 (ipykernel)",
   "language": "python",
   "name": "python3"
  },
  "language_info": {
   "codemirror_mode": {
    "name": "ipython",
    "version": 3
   },
   "file_extension": ".py",
   "mimetype": "text/x-python",
   "name": "python",
   "nbconvert_exporter": "python",
   "pygments_lexer": "ipython3",
   "version": "3.12.3"
  }
 },
 "nbformat": 4,
 "nbformat_minor": 4
}
