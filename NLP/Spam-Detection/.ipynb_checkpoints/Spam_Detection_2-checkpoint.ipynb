{
  "nbformat": 4,
  "nbformat_minor": 0,
  "metadata": {
    "colab": {
      "provenance": []
    },
    "kernelspec": {
      "name": "python3",
      "display_name": "Python 3"
    },
    "language_info": {
      "name": "python"
    }
  },
  "cells": [
    {
      "cell_type": "code",
      "execution_count": null,
      "metadata": {
        "id": "xhBwV0utPI3Y"
      },
      "outputs": [],
      "source": [
        "import numpy as np\n",
        "import pandas as pd\n",
        "import matplotlib.pyplot as plt\n",
        "import seaborn as sns"
      ]
    },
    {
      "cell_type": "code",
      "source": [
        "df = pd.read_csv('/content/drive/MyDrive/spam_or_not_spam.csv')"
      ],
      "metadata": {
        "id": "jx6dLMgRPO4c"
      },
      "execution_count": null,
      "outputs": []
    },
    {
      "cell_type": "markdown",
      "source": [
        "# Preprocessing"
      ],
      "metadata": {
        "id": "CLBfyiA2QjtF"
      }
    },
    {
      "cell_type": "markdown",
      "source": [
        "**Missing Value & WhiteSpace**"
      ],
      "metadata": {
        "id": "uTvmtFW3QoHr"
      }
    },
    {
      "cell_type": "code",
      "source": [
        "# Drop the rows with missing values\n",
        "df = df.dropna()\n",
        "\n",
        "blanks = []\n",
        "\n",
        "for i,email,label in df.itertuples():  # iterate over the DataFrame\n",
        "    if email.isspace():         # test 'email' for whitespace\n",
        "        blanks.append(i)     # add matching index numbers to the list\n",
        "print(len(blanks),\"   |    \", 'blanks: ', blanks , )\n",
        "\n",
        "df.drop(blanks, inplace=True)"
      ],
      "metadata": {
        "colab": {
          "base_uri": "https://localhost:8080/"
        },
        "id": "vfZjdoZJPfj0",
        "outputId": "f4923791-8138-4234-fd3c-15dc0a57ae15"
      },
      "execution_count": null,
      "outputs": [
        {
          "output_type": "stream",
          "name": "stdout",
          "text": [
            "2    |     blanks:  [2806, 2828]\n"
          ]
        }
      ]
    },
    {
      "cell_type": "markdown",
      "source": [
        "**Cleaning with NLTK**"
      ],
      "metadata": {
        "id": "P43uRY81RHHK"
      }
    },
    {
      "cell_type": "code",
      "source": [
        "# Import the 'stopwords' corpus from the nltk library\n",
        "# Stop words are commonly used words that are often removed from text during processing to enhance algorithm performance\n",
        "import nltk\n",
        "from nltk.corpus import stopwords\n",
        "nltk.download('stopwords')\n",
        "\n",
        "# Import the 'WordNetLemmatizer' from the nltk library\n",
        "# Lemmatization is the process of reducing a word to its base or root form (lemma)\n",
        "from nltk.stem import WordNetLemmatizer\n",
        "nltk.download('wordnet')\n",
        "\n",
        "# Get the list of English stop words\n",
        "sw = stopwords.words('english')\n",
        "\n",
        "# Create an instance of WordNetLemmatizer\n",
        "lemmatizer = WordNetLemmatizer()"
      ],
      "metadata": {
        "colab": {
          "base_uri": "https://localhost:8080/"
        },
        "id": "5otOZ5NvPiUk",
        "outputId": "872b52e6-6b97-41fe-bc56-fb546ba9f7fb"
      },
      "execution_count": null,
      "outputs": [
        {
          "output_type": "stream",
          "name": "stderr",
          "text": [
            "[nltk_data] Downloading package stopwords to /root/nltk_data...\n",
            "[nltk_data]   Package stopwords is already up-to-date!\n",
            "[nltk_data] Downloading package wordnet to /root/nltk_data...\n",
            "[nltk_data]   Package wordnet is already up-to-date!\n"
          ]
        }
      ]
    },
    {
      "cell_type": "code",
      "source": [
        "# Define a function to preprocess text\n",
        "def preprocess_text(messy_string):\n",
        "    # Assert that the input is a string\n",
        "    assert(type(messy_string) == str)\n",
        "\n",
        "    # Split the string into words, lemmatize each word, remove stop words, and join the words back into a string\n",
        "    # 'lemmatizer.lemmatize(word)' reduces the word to its base or root form (lemma)\n",
        "    # 'word not in sw' filters out stop words\n",
        "    cleaned = ' '.join([lemmatizer.lemmatize(word) for word in messy_string.split() if word not in sw])\n",
        "\n",
        "    # Return the cleaned string\n",
        "    return cleaned"
      ],
      "metadata": {
        "id": "Silh9y0ZP7B1"
      },
      "execution_count": null,
      "outputs": []
    },
    {
      "cell_type": "code",
      "source": [
        "df['email'] = df['email'].apply(preprocess_text)\n"
      ],
      "metadata": {
        "id": "wDzpDPdhmod9"
      },
      "execution_count": null,
      "outputs": []
    },
    {
      "cell_type": "markdown",
      "source": [
        "# Processing"
      ],
      "metadata": {
        "id": "qnLI-7nRRVXB"
      }
    },
    {
      "cell_type": "markdown",
      "source": [
        "**Making Value**"
      ],
      "metadata": {
        "id": "d8lHRhiIRXv7"
      }
    },
    {
      "cell_type": "code",
      "source": [
        "# Import necessary libraries\n",
        "from sklearn.pipeline import Pipeline\n",
        "from sklearn.feature_extraction.text import CountVectorizer, TfidfTransformer\n",
        "\n",
        "# Define the pipeline with a more descriptive name\n",
        "text_processing_pipeline = Pipeline([\n",
        "    ('Vectorize', CountVectorizer()),\n",
        "    ('TF-IDF', TfidfTransformer())\n",
        "])"
      ],
      "metadata": {
        "id": "nIckbXgOP956"
      },
      "execution_count": null,
      "outputs": []
    },
    {
      "cell_type": "code",
      "source": [
        "text_processing_pipeline"
      ],
      "metadata": {
        "colab": {
          "base_uri": "https://localhost:8080/",
          "height": 126
        },
        "id": "B4C5aGxdQARr",
        "outputId": "edd0e5b3-5442-4bd2-c284-30c0a1558226"
      },
      "execution_count": null,
      "outputs": [
        {
          "output_type": "execute_result",
          "data": {
            "text/plain": [
              "Pipeline(steps=[('Vectorize', CountVectorizer()),\n",
              "                ('TF-IDF', TfidfTransformer())])"
            ],
            "text/html": [
              "<style>#sk-container-id-1 {color: black;background-color: white;}#sk-container-id-1 pre{padding: 0;}#sk-container-id-1 div.sk-toggleable {background-color: white;}#sk-container-id-1 label.sk-toggleable__label {cursor: pointer;display: block;width: 100%;margin-bottom: 0;padding: 0.3em;box-sizing: border-box;text-align: center;}#sk-container-id-1 label.sk-toggleable__label-arrow:before {content: \"▸\";float: left;margin-right: 0.25em;color: #696969;}#sk-container-id-1 label.sk-toggleable__label-arrow:hover:before {color: black;}#sk-container-id-1 div.sk-estimator:hover label.sk-toggleable__label-arrow:before {color: black;}#sk-container-id-1 div.sk-toggleable__content {max-height: 0;max-width: 0;overflow: hidden;text-align: left;background-color: #f0f8ff;}#sk-container-id-1 div.sk-toggleable__content pre {margin: 0.2em;color: black;border-radius: 0.25em;background-color: #f0f8ff;}#sk-container-id-1 input.sk-toggleable__control:checked~div.sk-toggleable__content {max-height: 200px;max-width: 100%;overflow: auto;}#sk-container-id-1 input.sk-toggleable__control:checked~label.sk-toggleable__label-arrow:before {content: \"▾\";}#sk-container-id-1 div.sk-estimator input.sk-toggleable__control:checked~label.sk-toggleable__label {background-color: #d4ebff;}#sk-container-id-1 div.sk-label input.sk-toggleable__control:checked~label.sk-toggleable__label {background-color: #d4ebff;}#sk-container-id-1 input.sk-hidden--visually {border: 0;clip: rect(1px 1px 1px 1px);clip: rect(1px, 1px, 1px, 1px);height: 1px;margin: -1px;overflow: hidden;padding: 0;position: absolute;width: 1px;}#sk-container-id-1 div.sk-estimator {font-family: monospace;background-color: #f0f8ff;border: 1px dotted black;border-radius: 0.25em;box-sizing: border-box;margin-bottom: 0.5em;}#sk-container-id-1 div.sk-estimator:hover {background-color: #d4ebff;}#sk-container-id-1 div.sk-parallel-item::after {content: \"\";width: 100%;border-bottom: 1px solid gray;flex-grow: 1;}#sk-container-id-1 div.sk-label:hover label.sk-toggleable__label {background-color: #d4ebff;}#sk-container-id-1 div.sk-serial::before {content: \"\";position: absolute;border-left: 1px solid gray;box-sizing: border-box;top: 0;bottom: 0;left: 50%;z-index: 0;}#sk-container-id-1 div.sk-serial {display: flex;flex-direction: column;align-items: center;background-color: white;padding-right: 0.2em;padding-left: 0.2em;position: relative;}#sk-container-id-1 div.sk-item {position: relative;z-index: 1;}#sk-container-id-1 div.sk-parallel {display: flex;align-items: stretch;justify-content: center;background-color: white;position: relative;}#sk-container-id-1 div.sk-item::before, #sk-container-id-1 div.sk-parallel-item::before {content: \"\";position: absolute;border-left: 1px solid gray;box-sizing: border-box;top: 0;bottom: 0;left: 50%;z-index: -1;}#sk-container-id-1 div.sk-parallel-item {display: flex;flex-direction: column;z-index: 1;position: relative;background-color: white;}#sk-container-id-1 div.sk-parallel-item:first-child::after {align-self: flex-end;width: 50%;}#sk-container-id-1 div.sk-parallel-item:last-child::after {align-self: flex-start;width: 50%;}#sk-container-id-1 div.sk-parallel-item:only-child::after {width: 0;}#sk-container-id-1 div.sk-dashed-wrapped {border: 1px dashed gray;margin: 0 0.4em 0.5em 0.4em;box-sizing: border-box;padding-bottom: 0.4em;background-color: white;}#sk-container-id-1 div.sk-label label {font-family: monospace;font-weight: bold;display: inline-block;line-height: 1.2em;}#sk-container-id-1 div.sk-label-container {text-align: center;}#sk-container-id-1 div.sk-container {/* jupyter's `normalize.less` sets `[hidden] { display: none; }` but bootstrap.min.css set `[hidden] { display: none !important; }` so we also need the `!important` here to be able to override the default hidden behavior on the sphinx rendered scikit-learn.org. See: https://github.com/scikit-learn/scikit-learn/issues/21755 */display: inline-block !important;position: relative;}#sk-container-id-1 div.sk-text-repr-fallback {display: none;}</style><div id=\"sk-container-id-1\" class=\"sk-top-container\"><div class=\"sk-text-repr-fallback\"><pre>Pipeline(steps=[(&#x27;Vectorize&#x27;, CountVectorizer()),\n",
              "                (&#x27;TF-IDF&#x27;, TfidfTransformer())])</pre><b>In a Jupyter environment, please rerun this cell to show the HTML representation or trust the notebook. <br />On GitHub, the HTML representation is unable to render, please try loading this page with nbviewer.org.</b></div><div class=\"sk-container\" hidden><div class=\"sk-item sk-dashed-wrapped\"><div class=\"sk-label-container\"><div class=\"sk-label sk-toggleable\"><input class=\"sk-toggleable__control sk-hidden--visually\" id=\"sk-estimator-id-1\" type=\"checkbox\" ><label for=\"sk-estimator-id-1\" class=\"sk-toggleable__label sk-toggleable__label-arrow\">Pipeline</label><div class=\"sk-toggleable__content\"><pre>Pipeline(steps=[(&#x27;Vectorize&#x27;, CountVectorizer()),\n",
              "                (&#x27;TF-IDF&#x27;, TfidfTransformer())])</pre></div></div></div><div class=\"sk-serial\"><div class=\"sk-item\"><div class=\"sk-estimator sk-toggleable\"><input class=\"sk-toggleable__control sk-hidden--visually\" id=\"sk-estimator-id-2\" type=\"checkbox\" ><label for=\"sk-estimator-id-2\" class=\"sk-toggleable__label sk-toggleable__label-arrow\">CountVectorizer</label><div class=\"sk-toggleable__content\"><pre>CountVectorizer()</pre></div></div></div><div class=\"sk-item\"><div class=\"sk-estimator sk-toggleable\"><input class=\"sk-toggleable__control sk-hidden--visually\" id=\"sk-estimator-id-3\" type=\"checkbox\" ><label for=\"sk-estimator-id-3\" class=\"sk-toggleable__label sk-toggleable__label-arrow\">TfidfTransformer</label><div class=\"sk-toggleable__content\"><pre>TfidfTransformer()</pre></div></div></div></div></div></div></div>"
            ]
          },
          "metadata": {},
          "execution_count": 14
        }
      ]
    },
    {
      "cell_type": "markdown",
      "source": [
        "**Split Data**"
      ],
      "metadata": {
        "id": "rv7haXnnRces"
      }
    },
    {
      "cell_type": "code",
      "source": [
        "# Import 'train_test_split' from sklearn's model_selection module\n",
        "# This is used to split arrays or matrices into random train and test subsets\n",
        "from sklearn.model_selection import train_test_split\n",
        "\n",
        "# Split 'df[\"email\"]' and 'df[\"label\"]' into training and testing sets\n",
        "# 'test_size=0.2' means that 20% of the data will be used for testing, and the rest for training\n",
        "# 'random_state=42' sets the seed for the random number generator used for the split\n",
        "X_train, X_test, y_train, y_test = train_test_split(df[\"email\"], df[\"label\"], test_size=0.2, random_state=42)"
      ],
      "metadata": {
        "id": "eyDf0NHMQHBD"
      },
      "execution_count": null,
      "outputs": []
    },
    {
      "cell_type": "code",
      "source": [
        "# Fit the text processing pipeline to the training data and transform the training data\n",
        "# 'fit_transform()' learns the parameters from the data and then transforms the data according to these parameters\n",
        "X_train = text_processing_pipeline.fit_transform(X_train)\n",
        "\n",
        "# Transform the testing data using the already fitted pipeline\n",
        "# 'transform()' uses the parameters learned from 'fit_transform()' to transform the data\n",
        "X_test = text_processing_pipeline.transform(X_test)"
      ],
      "metadata": {
        "id": "fJHtoEkRQNc6"
      },
      "execution_count": null,
      "outputs": []
    },
    {
      "cell_type": "markdown",
      "source": [
        "# Training Models"
      ],
      "metadata": {
        "id": "8blyG6mWRnGL"
      }
    },
    {
      "cell_type": "code",
      "source": [
        "from sklearn.svm import SVC\n",
        "from sklearn.ensemble import RandomForestClassifier\n",
        "from sklearn.linear_model import LogisticRegression\n",
        "from sklearn.naive_bayes import MultinomialNB\n",
        "from sklearn.metrics import classification_report , confusion_matrix"
      ],
      "metadata": {
        "id": "xwNefBPyQJCs"
      },
      "execution_count": null,
      "outputs": []
    },
    {
      "cell_type": "code",
      "source": [
        "# Define a dictionary of classifiers for easier referencing and potential scalability\n",
        "classifiers = {\n",
        "    \"SVC\": SVC(kernel='linear'),\n",
        "    \"RandomForest\": RandomForestClassifier(n_estimators=100, random_state=42),\n",
        "    \"LogisticRegression\": LogisticRegression(random_state=42),\n",
        "    \"MultinomialNB\": MultinomialNB()\n",
        "}\n",
        "\n",
        "# Iterate over each classifier and print report\n",
        "for classifier_name, classifier_obj in classifiers.items():\n",
        "    # Fit the model\n",
        "    classifier_obj.fit(X_train, y_train)\n",
        "\n",
        "    # Make predictions\n",
        "    y_pred = classifier_obj.predict(X_test)\n",
        "\n",
        "    # Generate classification report\n",
        "    report = classification_report(y_test, y_pred)\n",
        "\n",
        "    # Print the classification report\n",
        "    print(f'Classification report for {classifier_name}: ')\n",
        "    print(report)\n",
        "    # Generate confusion matrix\n",
        "    cm = confusion_matrix(y_test, y_pred)\n",
        "\n",
        "    # Visualize the confusion matrix using matplotlib and seaborn\n",
        "    plt.figure(figsize=(3,3))\n",
        "    sns.heatmap(cm, annot=True, fmt=\".0f\", cmap = 'Blues_r')\n",
        "    plt.xlabel('Predicted')\n",
        "    plt.ylabel('True')\n",
        "    plt.show()\n",
        "\n",
        "    print(\"--------------------------------------------\")"
      ],
      "metadata": {
        "colab": {
          "base_uri": "https://localhost:8080/",
          "height": 1000
        },
        "id": "ZT4--cyQQTYv",
        "outputId": "b8018177-a4fe-48bf-b356-1319fef3bdb8"
      },
      "execution_count": null,
      "outputs": [
        {
          "output_type": "stream",
          "name": "stdout",
          "text": [
            "Classification report for SVC: \n",
            "              precision    recall  f1-score   support\n",
            "\n",
            "           0       0.99      1.00      1.00       497\n",
            "           1       0.99      0.97      0.98       103\n",
            "\n",
            "    accuracy                           0.99       600\n",
            "   macro avg       0.99      0.98      0.99       600\n",
            "weighted avg       0.99      0.99      0.99       600\n",
            "\n"
          ]
        },
        {
          "output_type": "display_data",
          "data": {
            "text/plain": [
              "<Figure size 300x300 with 2 Axes>"
            ],
            "image/png": "[encoded data removed]"
          },
          "metadata": {}
        },
        {
          "output_type": "stream",
          "name": "stdout",
          "text": [
            "--------------------------------------------\n",
            "Classification report for RandomForest: \n",
            "              precision    recall  f1-score   support\n",
            "\n",
            "           0       0.99      1.00      0.99       497\n",
            "           1       1.00      0.93      0.96       103\n",
            "\n",
            "    accuracy                           0.99       600\n",
            "   macro avg       0.99      0.97      0.98       600\n",
            "weighted avg       0.99      0.99      0.99       600\n",
            "\n"
          ]
        },
        {
          "output_type": "display_data",
          "data": {
            "text/plain": [
              "<Figure size 300x300 with 2 Axes>"
            ],
            "image/png": "[encoded data removed]"
          },
          "metadata": {}
        },
        {
          "output_type": "stream",
          "name": "stdout",
          "text": [
            "--------------------------------------------\n",
            "Classification report for LogisticRegression: \n",
            "              precision    recall  f1-score   support\n",
            "\n",
            "           0       0.97      1.00      0.98       497\n",
            "           1       1.00      0.83      0.91       103\n",
            "\n",
            "    accuracy                           0.97       600\n",
            "   macro avg       0.98      0.92      0.95       600\n",
            "weighted avg       0.97      0.97      0.97       600\n",
            "\n"
          ]
        },
        {
          "output_type": "display_data",
          "data": {
            "text/plain": [
              "<Figure size 300x300 with 2 Axes>"
            ],
            "image/png": "[encoded data removed]"
          },
          "metadata": {}
        },
        {
          "output_type": "stream",
          "name": "stdout",
          "text": [
            "--------------------------------------------\n",
            "Classification report for MultinomialNB: \n",
            "              precision    recall  f1-score   support\n",
            "\n",
            "           0       0.89      1.00      0.94       497\n",
            "           1       1.00      0.42      0.59       103\n",
            "\n",
            "    accuracy                           0.90       600\n",
            "   macro avg       0.95      0.71      0.77       600\n",
            "weighted avg       0.91      0.90      0.88       600\n",
            "\n"
          ]
        },
        {
          "output_type": "display_data",
          "data": {
            "text/plain": [
              "<Figure size 300x300 with 2 Axes>"
            ],
            "image/png": "[encoded data removed]"
          },
          "metadata": {}
        },
        {
          "output_type": "stream",
          "name": "stdout",
          "text": [
            "--------------------------------------------\n"
          ]
        }
      ]
    },
    {
      "cell_type": "markdown",
      "source": [
        "# Test"
      ],
      "metadata": {
        "id": "gGtCKhbbRw4R"
      }
    },
    {
      "cell_type": "code",
      "source": [
        "df.iloc[2600]"
      ],
      "metadata": {
        "colab": {
          "base_uri": "https://localhost:8080/"
        },
        "id": "-T-O9qRDQXzc",
        "outputId": "db7a9ede-48d5-404c-f1af-e3b81a5888fd"
      },
      "execution_count": null,
      "outputs": [
        {
          "output_type": "execute_result",
          "data": {
            "text/plain": [
              "email    hyperlink publish like professional digital pu...\n",
              "label                                                    1\n",
              "Name: 2600, dtype: object"
            ]
          },
          "metadata": {},
          "execution_count": 20
        }
      ]
    },
    {
      "cell_type": "code",
      "source": [
        "# Test the model with a custom email\n",
        "\n",
        "#custom_email = \"Hi there, How are you doing?\"\n",
        "custom_email = df.iloc[2600]['email']\n",
        "\n",
        "\n",
        "custom_email = text_processing_pipeline.transform([preprocess_text(custom_email)])\n",
        "\n",
        "print(classifiers[\"SVC\"].predict(custom_email))"
      ],
      "metadata": {
        "colab": {
          "base_uri": "https://localhost:8080/"
        },
        "id": "W7jRrPcvQaWt",
        "outputId": "4681076f-c527-45aa-84cf-2f09989144e2"
      },
      "execution_count": null,
      "outputs": [
        {
          "output_type": "stream",
          "name": "stdout",
          "text": [
            "[1]\n"
          ]
        }
      ]
    }
  ]
}