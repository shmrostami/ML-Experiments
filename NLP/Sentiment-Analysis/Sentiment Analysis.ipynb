{
 "cells": [
  {
   "cell_type": "code",
   "execution_count": 1,
   "metadata": {},
   "outputs": [],
   "source": [
    "import numpy as np\n",
    "import pandas as pd\n",
    "import matplotlib.pyplot as plt"
   ]
  },
  {
   "cell_type": "markdown",
   "metadata": {},
   "source": [
    "# Loading and Preprocessing Data"
   ]
  },
  {
   "cell_type": "code",
   "execution_count": 2,
   "metadata": {},
   "outputs": [
    {
     "data": {
      "text/html": [
       "<div>\n",
       "<style scoped>\n",
       "    .dataframe tbody tr th:only-of-type {\n",
       "        vertical-align: middle;\n",
       "    }\n",
       "\n",
       "    .dataframe tbody tr th {\n",
       "        vertical-align: top;\n",
       "    }\n",
       "\n",
       "    .dataframe thead th {\n",
       "        text-align: right;\n",
       "    }\n",
       "</style>\n",
       "<table border=\"1\" class=\"dataframe\">\n",
       "  <thead>\n",
       "    <tr style=\"text-align: right;\">\n",
       "      <th></th>\n",
       "      <th>comment</th>\n",
       "      <th>sentiment</th>\n",
       "    </tr>\n",
       "  </thead>\n",
       "  <tbody>\n",
       "    <tr>\n",
       "      <th>0</th>\n",
       "      <td>کس میدونه چه جوری از این ها میشه شکایت کرد لطف...</td>\n",
       "      <td>Negative</td>\n",
       "    </tr>\n",
       "    <tr>\n",
       "      <th>1</th>\n",
       "      <td>اف بر شهرداری که درخت را وسط میدان انداخته. طر...</td>\n",
       "      <td>Negative</td>\n",
       "    </tr>\n",
       "    <tr>\n",
       "      <th>2</th>\n",
       "      <td>خیلی جای بکری هس حتما یه سر برید👌</td>\n",
       "      <td>Positive</td>\n",
       "    </tr>\n",
       "    <tr>\n",
       "      <th>3</th>\n",
       "      <td>آب بسیار کثیف است، متراژ هم کم</td>\n",
       "      <td>Negative</td>\n",
       "    </tr>\n",
       "    <tr>\n",
       "      <th>4</th>\n",
       "      <td>افتضاح چون یه شماره تماس نداره خیرسرش</td>\n",
       "      <td>Negative</td>\n",
       "    </tr>\n",
       "    <tr>\n",
       "      <th>...</th>\n",
       "      <td>...</td>\n",
       "      <td>...</td>\n",
       "    </tr>\n",
       "    <tr>\n",
       "      <th>2538</th>\n",
       "      <td>اصلا کیفیت نداره از سر مجبوری اومدیم اتاق کثیف...</td>\n",
       "      <td>Negative</td>\n",
       "    </tr>\n",
       "    <tr>\n",
       "      <th>2539</th>\n",
       "      <td>بسیار عالی بدون سردرد</td>\n",
       "      <td>Positive</td>\n",
       "    </tr>\n",
       "    <tr>\n",
       "      <th>2540</th>\n",
       "      <td>برای زیارت و استراحتی کوتاه خوبه در ضمن کتاب ف...</td>\n",
       "      <td>Positive</td>\n",
       "    </tr>\n",
       "    <tr>\n",
       "      <th>2541</th>\n",
       "      <td>جای خوبی نیست .یه دونه کافی شاپ امیر شکلات بود...</td>\n",
       "      <td>Negative</td>\n",
       "    </tr>\n",
       "    <tr>\n",
       "      <th>2542</th>\n",
       "      <td>خیلی عالی مخصوصا دوغای سه لیتری غلیظش، ضمنا بس...</td>\n",
       "      <td>Positive</td>\n",
       "    </tr>\n",
       "  </tbody>\n",
       "</table>\n",
       "<p>2543 rows × 2 columns</p>\n",
       "</div>"
      ],
      "text/plain": [
       "                                                comment sentiment\n",
       "0     کس میدونه چه جوری از این ها میشه شکایت کرد لطف...  Negative\n",
       "1     اف بر شهرداری که درخت را وسط میدان انداخته. طر...  Negative\n",
       "2                     خیلی جای بکری هس حتما یه سر برید👌  Positive\n",
       "3                        آب بسیار کثیف است، متراژ هم کم  Negative\n",
       "4                 افتضاح چون یه شماره تماس نداره خیرسرش  Negative\n",
       "...                                                 ...       ...\n",
       "2538  اصلا کیفیت نداره از سر مجبوری اومدیم اتاق کثیف...  Negative\n",
       "2539                              بسیار عالی بدون سردرد  Positive\n",
       "2540  برای زیارت و استراحتی کوتاه خوبه در ضمن کتاب ف...  Positive\n",
       "2541  جای خوبی نیست .یه دونه کافی شاپ امیر شکلات بود...  Negative\n",
       "2542  خیلی عالی مخصوصا دوغای سه لیتری غلیظش، ضمنا بس...  Positive\n",
       "\n",
       "[2543 rows x 2 columns]"
      ]
     },
     "execution_count": 2,
     "metadata": {},
     "output_type": "execute_result"
    }
   ],
   "source": [
    "df = pd.read_csv('Sentiments.csv')\n",
    "\n",
    "df"
   ]
  },
  {
   "cell_type": "markdown",
   "metadata": {},
   "source": [
    "**Checking for Missing and Null Values**"
   ]
  },
  {
   "cell_type": "code",
   "execution_count": 3,
   "metadata": {},
   "outputs": [
    {
     "data": {
      "text/plain": [
       "sentiment\n",
       "Negative    1159\n",
       "Positive     938\n",
       "Neutral      446\n",
       "Name: count, dtype: int64"
      ]
     },
     "execution_count": 3,
     "metadata": {},
     "output_type": "execute_result"
    }
   ],
   "source": [
    "label_counts = df['sentiment'].value_counts()\n",
    "\n",
    "label_counts"
   ]
  },
  {
   "cell_type": "code",
   "execution_count": 4,
   "metadata": {},
   "outputs": [
    {
     "data": {
      "image/png": "[encoded data removed]",
      "text/plain": [
       "<Figure size 800x600 with 1 Axes>"
      ]
     },
     "metadata": {},
     "output_type": "display_data"
    }
   ],
   "source": [
    "# Create a bar plot\n",
    "plt.figure(figsize=(8, 6))\n",
    "plt.bar(label_counts.index, label_counts.values, color=['red', 'green' , 'blue'])\n",
    "plt.xlabel('sentiment')\n",
    "plt.ylabel('Count')\n",
    "plt.title('Number of Each Label')\n",
    "plt.show()"
   ]
  },
  {
   "cell_type": "code",
   "execution_count": 5,
   "metadata": {},
   "outputs": [
    {
     "data": {
      "text/plain": [
       "comment      0\n",
       "sentiment    0\n",
       "dtype: int64"
      ]
     },
     "execution_count": 5,
     "metadata": {},
     "output_type": "execute_result"
    }
   ],
   "source": [
    "# Check for missing values\n",
    "missing_values = df.isnull().sum()\n",
    "\n",
    "missing_values"
   ]
  },
  {
   "cell_type": "code",
   "execution_count": 6,
   "metadata": {},
   "outputs": [
    {
     "name": "stdout",
     "output_type": "stream",
     "text": [
      "0    |     blanks:  []\n"
     ]
    }
   ],
   "source": [
    "blanks = []\n",
    "\n",
    "for i,email,label in df.itertuples():  # iterate over the DataFrame\n",
    "    if email.isspace():         # test 'comment' for whitespace\n",
    "        blanks.append(i)     # add matching index numbers to the list\n",
    "\n",
    "print(len(blanks),\"   |    \", 'blanks: ', blanks , )"
   ]
  },
  {
   "cell_type": "markdown",
   "metadata": {},
   "source": [
    "**Cleaning Text**"
   ]
  },
  {
   "cell_type": "code",
   "execution_count": 7,
   "metadata": {},
   "outputs": [
    {
     "ename": "ModuleNotFoundError",
     "evalue": "No module named 'hazm'",
     "output_type": "error",
     "traceback": [
      "\u001b[1;31m---------------------------------------------------------------------------\u001b[0m",
      "\u001b[1;31mModuleNotFoundError\u001b[0m                       Traceback (most recent call last)",
      "Cell \u001b[1;32mIn[7], line 1\u001b[0m\n\u001b[1;32m----> 1\u001b[0m \u001b[38;5;28;01mimport\u001b[39;00m\u001b[38;5;250m \u001b[39m\u001b[38;5;21;01mhazm\u001b[39;00m\n\u001b[0;32m      2\u001b[0m stopwords \u001b[38;5;241m=\u001b[39m hazm\u001b[38;5;241m.\u001b[39mstopwords_list()\n\u001b[0;32m      3\u001b[0m lemmatizer \u001b[38;5;241m=\u001b[39m hazm\u001b[38;5;241m.\u001b[39mLemmatizer()\n",
      "\u001b[1;31mModuleNotFoundError\u001b[0m: No module named 'hazm'"
     ]
    }
   ],
   "source": [
    "import hazm\n",
    "stopwords = hazm.stopwords_list()\n",
    "lemmatizer = hazm.Lemmatizer()\n",
    "normalizer = hazm.Normalizer()"
   ]
  },
  {
   "cell_type": "code",
   "execution_count": 44,
   "metadata": {},
   "outputs": [
    {
     "name": "stdout",
     "output_type": "stream",
     "text": [
      "389\n"
     ]
    },
    {
     "data": {
      "text/plain": [
       "['آخرین',\n",
       " 'آقای',\n",
       " 'آمد',\n",
       " 'آمده',\n",
       " 'آمده_است',\n",
       " 'آن',\n",
       " 'آنان',\n",
       " 'آنجا',\n",
       " 'آنها',\n",
       " 'آنچه']"
      ]
     },
     "execution_count": 44,
     "metadata": {},
     "output_type": "execute_result"
    }
   ],
   "source": [
    "print(len(stopwords))\n",
    "\n",
    "stopwords[0:10]"
   ]
  },
  {
   "cell_type": "code",
   "execution_count": 48,
   "metadata": {},
   "outputs": [
    {
     "data": {
      "text/plain": [
       "'سلام می\\u200cکنم دوستان عزیز به خصوص آقای محمدی و آقای محمدیان'"
      ]
     },
     "execution_count": 48,
     "metadata": {},
     "output_type": "execute_result"
    }
   ],
   "source": [
    "test = \"سلام میکنم دوستان عزیز به خصوص آقای محمدی و آقای محمدیان\"\n",
    "clean = normalizer.normalize(test)\n",
    "\n",
    "clean"
   ]
  },
  {
   "cell_type": "code",
   "execution_count": 49,
   "metadata": {},
   "outputs": [],
   "source": [
    "def preprocess_text(messy_string):\n",
    "    assert(type(messy_string) == str)\n",
    "\n",
    "    # Normalize, tokenize, remove stopwords, lemmatize, and rejoin\n",
    "    cleaned = ' '.join([\n",
    "        lemmatizer.lemmatize(word)\n",
    "        for word in normalizer.normalize(messy_string).split()\n",
    "        if word not in stopwords\n",
    "    ])\n",
    "\n",
    "    return cleaned\n"
   ]
  },
  {
   "cell_type": "code",
   "execution_count": 50,
   "metadata": {},
   "outputs": [
    {
     "data": {
      "text/html": [
       "<div>\n",
       "<style scoped>\n",
       "    .dataframe tbody tr th:only-of-type {\n",
       "        vertical-align: middle;\n",
       "    }\n",
       "\n",
       "    .dataframe tbody tr th {\n",
       "        vertical-align: top;\n",
       "    }\n",
       "\n",
       "    .dataframe thead th {\n",
       "        text-align: right;\n",
       "    }\n",
       "</style>\n",
       "<table border=\"1\" class=\"dataframe\">\n",
       "  <thead>\n",
       "    <tr style=\"text-align: right;\">\n",
       "      <th></th>\n",
       "      <th>comment</th>\n",
       "      <th>sentiment</th>\n",
       "    </tr>\n",
       "  </thead>\n",
       "  <tbody>\n",
       "    <tr>\n",
       "      <th>0</th>\n",
       "      <td>کس میدونه جور میشه شکایت لطفا نوشت#نویس مسولیت...</td>\n",
       "      <td>Negative</td>\n",
       "    </tr>\n",
       "    <tr>\n",
       "      <th>1</th>\n",
       "      <td>اف شهردار درخت وسط میدان انداخته. طراح بد</td>\n",
       "      <td>Negative</td>\n",
       "    </tr>\n",
       "    <tr>\n",
       "      <th>2</th>\n",
       "      <td>بکر هس حتما یه سر برید👌</td>\n",
       "      <td>Positive</td>\n",
       "    </tr>\n",
       "    <tr>\n",
       "      <th>3</th>\n",
       "      <td>آب کثیف است، متراژ</td>\n",
       "      <td>Negative</td>\n",
       "    </tr>\n",
       "    <tr>\n",
       "      <th>4</th>\n",
       "      <td>افتضاح یه شماره تماس نداره خیرسرش</td>\n",
       "      <td>Negative</td>\n",
       "    </tr>\n",
       "  </tbody>\n",
       "</table>\n",
       "</div>"
      ],
      "text/plain": [
       "                                             comment sentiment\n",
       "0  کس میدونه جور میشه شکایت لطفا نوشت#نویس مسولیت...  Negative\n",
       "1          اف شهردار درخت وسط میدان انداخته. طراح بد  Negative\n",
       "2                            بکر هس حتما یه سر برید👌  Positive\n",
       "3                                 آب کثیف است، متراژ  Negative\n",
       "4                  افتضاح یه شماره تماس نداره خیرسرش  Negative"
      ]
     },
     "execution_count": 50,
     "metadata": {},
     "output_type": "execute_result"
    }
   ],
   "source": [
    "df['comment'] = df['comment'].apply(preprocess_text)\n",
    "\n",
    "df.head()"
   ]
  },
  {
   "cell_type": "markdown",
   "metadata": {},
   "source": [
    "# Preprocessing Data"
   ]
  },
  {
   "cell_type": "code",
   "execution_count": 51,
   "metadata": {},
   "outputs": [],
   "source": [
    "# Import necessary libraries\n",
    "from sklearn.pipeline import Pipeline\n",
    "from sklearn.feature_extraction.text import CountVectorizer, TfidfTransformer\n",
    "\n",
    "# Define the pipeline with a more descriptive name\n",
    "text_processing_pipeline = Pipeline([\n",
    "    ('Vectorize', CountVectorizer()),\n",
    "    ('TF-IDF', TfidfTransformer())\n",
    "])"
   ]
  },
  {
   "cell_type": "code",
   "execution_count": 52,
   "metadata": {},
   "outputs": [],
   "source": [
    "from sklearn.model_selection import train_test_split\n",
    "\n",
    "X_train, X_test, y_train, y_test = train_test_split(df[\"comment\"], df[\"sentiment\"], test_size=0.2, random_state=42)"
   ]
  },
  {
   "cell_type": "code",
   "execution_count": 53,
   "metadata": {},
   "outputs": [],
   "source": [
    "X_train = text_processing_pipeline.fit_transform(X_train)\n",
    "X_test = text_processing_pipeline.transform(X_test)"
   ]
  },
  {
   "cell_type": "markdown",
   "metadata": {},
   "source": [
    "# Training Models"
   ]
  },
  {
   "cell_type": "code",
   "execution_count": 54,
   "metadata": {},
   "outputs": [],
   "source": [
    "from sklearn.svm import SVC\n",
    "from sklearn.ensemble import RandomForestClassifier\n",
    "from sklearn.linear_model import LogisticRegression\n",
    "from sklearn.naive_bayes import MultinomialNB\n",
    "from sklearn.metrics import classification_report"
   ]
  },
  {
   "cell_type": "code",
   "execution_count": 55,
   "metadata": {},
   "outputs": [
    {
     "name": "stdout",
     "output_type": "stream",
     "text": [
      "Classification report for SVC: \n",
      "              precision    recall  f1-score   support\n",
      "\n",
      "    Negative       0.79      0.84      0.81       248\n",
      "     Neutral       0.53      0.43      0.48        72\n",
      "    Positive       0.80      0.80      0.80       189\n",
      "\n",
      "    accuracy                           0.77       509\n",
      "   macro avg       0.71      0.69      0.70       509\n",
      "weighted avg       0.76      0.77      0.76       509\n",
      "\n",
      "--------------------------------------------\n",
      "Classification report for RandomForest: \n",
      "              precision    recall  f1-score   support\n",
      "\n",
      "    Negative       0.84      0.77      0.81       248\n",
      "     Neutral       0.63      0.43      0.51        72\n",
      "    Positive       0.70      0.86      0.77       189\n",
      "\n",
      "    accuracy                           0.76       509\n",
      "   macro avg       0.73      0.69      0.70       509\n",
      "weighted avg       0.76      0.76      0.75       509\n",
      "\n",
      "--------------------------------------------\n",
      "Classification report for LogisticRegression: \n",
      "              precision    recall  f1-score   support\n",
      "\n",
      "    Negative       0.79      0.90      0.84       248\n",
      "     Neutral       0.71      0.42      0.53        72\n",
      "    Positive       0.83      0.81      0.82       189\n",
      "\n",
      "    accuracy                           0.80       509\n",
      "   macro avg       0.78      0.71      0.73       509\n",
      "weighted avg       0.80      0.80      0.79       509\n",
      "\n",
      "--------------------------------------------\n",
      "Classification report for MultinomialNB: \n",
      "              precision    recall  f1-score   support\n",
      "\n",
      "    Negative       0.72      0.96      0.82       248\n",
      "     Neutral       0.79      0.15      0.26        72\n",
      "    Positive       0.86      0.74      0.79       189\n",
      "\n",
      "    accuracy                           0.76       509\n",
      "   macro avg       0.79      0.62      0.62       509\n",
      "weighted avg       0.78      0.76      0.73       509\n",
      "\n",
      "--------------------------------------------\n"
     ]
    }
   ],
   "source": [
    "# Define a dictionary of classifiers for easier referencing and potential scalability\n",
    "classifiers = {\n",
    "    \"SVC\": SVC(kernel='linear'),\n",
    "    \"RandomForest\": RandomForestClassifier(n_estimators=100, random_state=42),\n",
    "    \"LogisticRegression\": LogisticRegression(random_state=42),\n",
    "    \"MultinomialNB\": MultinomialNB()\n",
    "}\n",
    "\n",
    "# Iterate over each classifier and print report\n",
    "for classifier_name, classifier_obj in classifiers.items():\n",
    "    # Fit the model\n",
    "    classifier_obj.fit(X_train, y_train)\n",
    "        \n",
    "    # Make predictions\n",
    "    y_pred = classifier_obj.predict(X_test)\n",
    "        \n",
    "    # Generate classification report\n",
    "    report = classification_report(y_test, y_pred)\n",
    "        \n",
    "    # Print the classification report\n",
    "    print(f'Classification report for {classifier_name}: ')\n",
    "    print(report)\n",
    "    print(\"--------------------------------------------\")"
   ]
  },
  {
   "cell_type": "markdown",
   "metadata": {},
   "source": [
    "# Testing"
   ]
  },
  {
   "cell_type": "code",
   "execution_count": 83,
   "metadata": {},
   "outputs": [
    {
     "data": {
      "text/plain": [
       "comment      فضا وشلوغ بلیط ۲ ساعت ۹۰ هزار تومان مبلغ هست ۱...\n",
       "sentiment                                             Negative\n",
       "Name: 1600, dtype: object"
      ]
     },
     "execution_count": 83,
     "metadata": {},
     "output_type": "execute_result"
    }
   ],
   "source": [
    "df.iloc[1600]"
   ]
  },
  {
   "cell_type": "code",
   "execution_count": 84,
   "metadata": {},
   "outputs": [
    {
     "name": "stdout",
     "output_type": "stream",
     "text": [
      "['Negative']\n"
     ]
    }
   ],
   "source": [
    "# Test the model with a custom email\n",
    "\n",
    "#comment = preprocess_text(\"من این فیلم رو دوست نداشتم و خیلی بدم اومد \")\n",
    "comment = df.iloc[1600]['comment']\n",
    "\n",
    "custom_comment = text_processing_pipeline.transform([comment])\n",
    "\n",
    "print(classifiers[\"SVC\"].predict(custom_comment))"
   ]
  }
 ],
 "metadata": {
  "kernelspec": {
   "display_name": "Python 3 (ipykernel)",
   "language": "python",
   "name": "python3"
  },
  "language_info": {
   "codemirror_mode": {
    "name": "ipython",
    "version": 3
   },
   "file_extension": ".py",
   "mimetype": "text/x-python",
   "name": "python",
   "nbconvert_exporter": "python",
   "pygments_lexer": "ipython3",
   "version": "3.12.3"
  }
 },
 "nbformat": 4,
 "nbformat_minor": 4
}
