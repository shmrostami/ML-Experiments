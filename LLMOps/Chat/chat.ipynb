{
 "cells": [
  {
   "cell_type": "code",
   "execution_count": 2,
   "id": "5360ca84",
   "metadata": {},
   "outputs": [],
   "source": [
    "from langchain_ollama import OllamaLLM\n",
    "from langchain.prompts import PromptTemplate, HumanMessagePromptTemplate, ChatPromptTemplate\n",
    "from IPython.display import Markdown, display\n",
    "import logging\n",
    "import os\n",
    "import requests"
   ]
  },
  {
   "cell_type": "code",
   "execution_count": 3,
   "id": "0641cab7",
   "metadata": {},
   "outputs": [],
   "source": [
    "# =========================\n",
    "# General Config\n",
    "# =========================\n",
    "# Set up for bypassing system proxy\n",
    "os.environ[\"no_proxy\"] = \"127.0.0.1,localhost\"\n",
    "\n",
    "# Set up logging for better error handling\n",
    "DISABLE_LOGGING = False  # Set to True to disable logging, False to enable\n",
    "logging.basicConfig(\n",
    "    level=logging.CRITICAL if DISABLE_LOGGING else logging.INFO,\n",
    "    format=\"%(asctime)s - %(levelname)s - %(message)s\",\n",
    "    datefmt=\"%H:%M:%S\"\n",
    ")\n",
    "logger = logging.getLogger(__name__)"
   ]
  },
  {
   "cell_type": "code",
   "execution_count": 4,
   "id": "b649ca2a",
   "metadata": {},
   "outputs": [],
   "source": [
    "# ================================\n",
    "# Configure Ollama host and port\n",
    "# ================================\n",
    "OLLAMA_HOST = os.getenv(\"OLLAMA_HOST\", \"127.0.0.1\")\n",
    "OLLAMA_PORT = os.getenv(\"OLLAMA_PORT\", \"11434\")\n",
    "OLLAMA_URL = f\"http://{OLLAMA_HOST}:{OLLAMA_PORT}\""
   ]
  },
  {
   "cell_type": "code",
   "execution_count": 5,
   "id": "c8533be7",
   "metadata": {},
   "outputs": [],
   "source": [
    "# ===========================\n",
    "# Define the prompt template\n",
    "# ===========================\n",
    "prompt = ChatPromptTemplate(\n",
    "    input_variables=[\"content\"],\n",
    "    messages=[\n",
    "        HumanMessagePromptTemplate.from_template(\"{content}\")\n",
    "    ]\n",
    ")\n",
    "\n",
    "# =========================\n",
    "# Input parameters\n",
    "# =========================\n",
    "# input_params = {\"language\": \"python\", \"task\": \"return a list of 5 integers\"}\n",
    "\n",
    "# ================================\n",
    "# List of models to iterate over\n",
    "# ================================\n",
    "models = [\n",
    "    {\"name\": \"llama3.2:3b\", \"description\": \"Llama 3.2\"},\n",
    "    {\"name\": \"gemma3:latest\", \"description\": \"Gemma 3 (4.3B)\"},\n",
    "    {\"name\": \"deepseek-r1:1.5b\", \"description\": \"DeepSeek-R1 (1.8B)\"}\n",
    "]"
   ]
  },
  {
   "cell_type": "code",
   "execution_count": 6,
   "id": "a7d7787f",
   "metadata": {},
   "outputs": [],
   "source": [
    "# =========================\n",
    "# Test server connection\n",
    "# =========================\n",
    "def test_server_connection(url: str) -> bool:\n",
    "    try:\n",
    "        response = requests.get(url, timeout=5)\n",
    "        logger.info(f\"Ollama server status: {response.status_code}\")\n",
    "        return True\n",
    "    except requests.RequestException as e:\n",
    "        logger.error(f\"❌ Failed to connect to Ollama server at {url}: {e}\")\n",
    "        return False"
   ]
  },
  {
   "cell_type": "code",
   "execution_count": null,
   "id": "c288ab66",
   "metadata": {},
   "outputs": [],
   "source": [
    "# # 1) Use Chatgpt api\n",
    "# api_key = \"sk-proj-....\"\n",
    "# llm = OpenAI(\n",
    "#     openai_api_key=api_key\n",
    "# )\n",
    "\n",
    "# 2) Use local LLM\n",
    "# =================================================\n",
    "# Function to invoke a model and display the result\n",
    "# =================================================\n",
    "def run_model(model: dict, prompt: ChatPromptTemplate, params: dict) -> None:\n",
    "    try:\n",
    "        logger.info(f\"🚀 Running model: {model['description']} ({model['name']})\")\n",
    "        llm = OllamaLLM(model=model[\"name\"], base_url=OLLAMA_URL, timeout=30)\n",
    "        code_chain = prompt | llm\n",
    "        result = code_chain.invoke(params)\n",
    "        display(Markdown(f\"### {model['description']}\\n```{params['language']}\\n{result}\\n```\"))\n",
    "    except Exception as e:\n",
    "        logger.error(f\"⚠️ Error with {model['description']}: {e}\")"
   ]
  },
  {
   "cell_type": "code",
   "execution_count": 12,
   "id": "b6bd122e",
   "metadata": {},
   "outputs": [
    {
     "name": "stderr",
     "output_type": "stream",
     "text": [
      "17:41:53 - INFO - Ollama server status: 200\n",
      "17:41:53 - INFO - 🚀 Running model: Llama 3.2 (llama3.2:3b)\n"
     ]
    },
    {
     "name": "stderr",
     "output_type": "stream",
     "text": [
      "17:43:28 - INFO - HTTP Request: POST http://127.0.0.1:11434/api/generate \"HTTP/1.1 200 OK\"\n"
     ]
    },
    {
     "data": {
      "text/markdown": [
       "### Llama 3.2\n",
       "```python\n",
       "Here is a simple Python function that returns a list of 5 random integers:\n",
       "\n",
       "```python\n",
       "import random\n",
       "\n",
       "def generate_random_numbers():\n",
       "    return [random.randint(0, 100) for _ in range(5)]\n",
       "\n",
       "# Example usage:\n",
       "print(generate_random_numbers())\n",
       "```\n",
       "\n",
       "This will output a list of 5 unique random integers between 0 and 100.\n",
       "```"
      ],
      "text/plain": [
       "<IPython.core.display.Markdown object>"
      ]
     },
     "metadata": {},
     "output_type": "display_data"
    }
   ],
   "source": [
    "if not test_server_connection(OLLAMA_URL):\n",
    "    exit(1)\n",
    "\n",
    "#Run One Model\n",
    "run_model(models[0], code_prompt, input_params)\n",
    "\n",
    "# # Run each model\n",
    "# for model in models:\n",
    "#     run_model(model[\"name\"], model[\"description\"], code_prompt, input_params)"
   ]
  },
  {
   "cell_type": "code",
   "execution_count": null,
   "id": "b3630c56",
   "metadata": {},
   "outputs": [],
   "source": []
  }
 ],
 "metadata": {
  "kernelspec": {
   "display_name": "llm",
   "language": "python",
   "name": "python3"
  },
  "language_info": {
   "codemirror_mode": {
    "name": "ipython",
    "version": 3
   },
   "file_extension": ".py",
   "mimetype": "text/x-python",
   "name": "python",
   "nbconvert_exporter": "python",
   "pygments_lexer": "ipython3",
   "version": "3.13.5"
  }
 },
 "nbformat": 4,
 "nbformat_minor": 5
}
