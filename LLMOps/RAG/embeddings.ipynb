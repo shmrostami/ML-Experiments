{
 "cells": [
  {
   "cell_type": "code",
   "execution_count": null,
   "id": "1cc81809",
   "metadata": {},
   "outputs": [],
   "source": [
    "# from langchain.document_loaders import TextLoader\n",
    "# from langchain.text_splitter import CharacterTextSplitter\n",
    "# from langchain.vectorstores import Chroma\n",
    "# from langchain_ollama import OllamaEmbeddings\n",
    "\n",
    "from langchain_community.document_loaders import TextLoader\n",
    "from langchain.text_splitter import CharacterTextSplitter\n",
    "from langchain_community.vectorstores import Chroma\n",
    "from langchain_ollama import OllamaEmbeddings"
   ]
  },
  {
   "cell_type": "code",
   "execution_count": null,
   "id": "e0b89273",
   "metadata": {},
   "outputs": [
    {
     "name": "stdout",
     "output_type": "stream",
     "text": [
      "\n",
      "\n",
      "89. The first TV commercial aired on July 1, 1941, for the Bulova Watch Company.\n",
      "90. The modern Italian language originated from the region of Tuscany.\n",
      "\n",
      "\n",
      "50. Canada has more lakes than the rest of the world combined.\n",
      "51. 10% of the world's population is left-handed.\n",
      "52. The Statue of Liberty was gifted to the U.S. by France.\n",
      "\n",
      "\n",
      "84. Hedonic treadmill is a tendency of people to return to a set level of happiness despite life’s ups and downs.\n",
      "85. Approximately two-thirds of people tip their head to the right when they kiss.\n",
      "\n",
      "\n",
      "61. The first FIFA World Cup took place in Uruguay in 1930.\n",
      "62. The Rubik's cube was patented by Hungarian inventor Ernő Rubik.\n",
      "63. Karaoke means \"empty orchestra\" in Japanese.\n"
     ]
    }
   ],
   "source": [
    "# Split text into chunks\n",
    "text_splitter = CharacterTextSplitter(\n",
    "    separator=\"\\n\",\n",
    "    chunk_size=200,\n",
    "    chunk_overlap=0\n",
    ")\n",
    "\n",
    "# Load text file\n",
    "loader = TextLoader(\"facts.txt\")\n",
    "docs = loader.load_and_split(text_splitter=text_splitter)\n",
    "\n",
    "# Initialize embeddings with Ollama\n",
    "model_name = \"llama3.2:3b\"\n",
    "embeddings = OllamaEmbeddings(model=model_name)\n",
    "\n",
    "# Create or load Chroma vector store\n",
    "db = Chroma.from_documents(\n",
    "    docs,\n",
    "    embedding=embeddings,\n",
    "    persist_directory=\"emb\"  # stored in ./emb\n",
    ")\n",
    "\n",
    "# # load Chroma vecto store\n",
    "# db = Chroma(persist_directory=\"emb\", embedding_function=embeddings)\n",
    "\n",
    "# Run similarity search\n",
    "results = db.similarity_search(\n",
    "    \"What is an interesting fact about the English language?\"\n",
    ")\n",
    "\n",
    "# Print results\n",
    "for result in results:\n",
    "    print(\"\\n\")\n",
    "    print(result.page_content)\n",
    "\n",
    "# for doc in docs:\n",
    "#     print(doc.page_content)\n",
    "#     print(\"\\n\")\n"
   ]
  },
  {
   "cell_type": "code",
   "execution_count": null,
   "id": "a7838b5d",
   "metadata": {},
   "outputs": [],
   "source": []
  }
 ],
 "metadata": {
  "language_info": {
   "name": "python"
  }
 },
 "nbformat": 4,
 "nbformat_minor": 5
}
