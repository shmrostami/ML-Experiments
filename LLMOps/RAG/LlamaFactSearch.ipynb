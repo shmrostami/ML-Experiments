{
 "cells": [
  {
   "cell_type": "code",
   "execution_count": 3,
   "id": "202a8860",
   "metadata": {},
   "outputs": [],
   "source": [
    "# Embedding with llama3.2:3b\n",
    "import os\n",
    "from langchain_community.document_loaders import TextLoader\n",
    "from langchain.text_splitter import CharacterTextSplitter\n",
    "from langchain_chroma import Chroma\n",
    "from langchain_ollama import OllamaEmbeddings"
   ]
  },
  {
   "cell_type": "code",
   "execution_count": 4,
   "id": "b03ea4e7",
   "metadata": {},
   "outputs": [
    {
     "name": "stdout",
     "output_type": "stream",
     "text": [
      "✅ Found existing DB. Loading without re-embedding...\n"
     ]
    }
   ],
   "source": [
    "# --------------------\n",
    "# Setup\n",
    "# --------------------\n",
    "os.environ.setdefault(\"no_proxy\", \"127.0.0.1,localhost\")\n",
    "os.environ.setdefault(\"HTTPX_NO_PROXY\", \"127.0.0.1,localhost\")\n",
    "\n",
    "persist_dir = \"llama-emb\"\n",
    "embeddings = OllamaEmbeddings(model=\"llama3.2:3b\")\n",
    "\n",
    "# Load documents only if we need to create embeddings\n",
    "if not os.path.exists(persist_dir) or not os.listdir(persist_dir):\n",
    "    print(\"⚡ No existing DB found. Creating new embeddings...\")\n",
    "\n",
    "    # Load and split text\n",
    "    loader = TextLoader(\"facts.txt\")\n",
    "    docs = loader.load()\n",
    "    text_splitter = CharacterTextSplitter(\n",
    "        separator=\"\\n\",\n",
    "        chunk_size=200,\n",
    "        chunk_overlap=50\n",
    "    )\n",
    "    docs = text_splitter.split_documents(docs)\n",
    "\n",
    "    # Create Chroma DB and persist\n",
    "    db = Chroma.from_documents(\n",
    "        documents=docs,\n",
    "        embedding=embeddings,\n",
    "        persist_directory=persist_dir\n",
    "    )\n",
    "else:\n",
    "    print(\"✅ Found existing DB. Loading without re-embedding...\")\n",
    "    db = Chroma(\n",
    "        persist_directory=persist_dir,\n",
    "        embedding_function=embeddings\n",
    "    )"
   ]
  },
  {
   "cell_type": "code",
   "execution_count": 5,
   "id": "1f7c4796",
   "metadata": {},
   "outputs": [
    {
     "name": "stdout",
     "output_type": "stream",
     "text": [
      "\n",
      "Result 1:\n",
      "89. The first TV commercial aired on July 1, 1941, for the Bulova Watch Company.\n",
      "90. The modern Italian language originated from the region of Tuscany.\n",
      "\n",
      "Result 2:\n",
      "50. Canada has more lakes than the rest of the world combined.\n",
      "51. 10% of the world's population is left-handed.\n",
      "52. The Statue of Liberty was gifted to the U.S. by France.\n",
      "\n",
      "Result 3:\n",
      "84. Hedonic treadmill is a tendency of people to return to a set level of happiness despite life’s ups and downs.\n",
      "85. Approximately two-thirds of people tip their head to the right when they kiss.\n"
     ]
    }
   ],
   "source": [
    "# --------------------\n",
    "# Run a test query\n",
    "# --------------------\n",
    "query = \"What is an interesting fact about the English language?\"\n",
    "results = db.similarity_search(query, k=3)\n",
    "\n",
    "for i, result in enumerate(results, start=1):\n",
    "    print(f\"\\nResult {i}:\")\n",
    "    print(result.page_content)"
   ]
  }
 ],
 "metadata": {
  "kernelspec": {
   "display_name": "nlp",
   "language": "python",
   "name": "python3"
  },
  "language_info": {
   "codemirror_mode": {
    "name": "ipython",
    "version": 3
   },
   "file_extension": ".py",
   "mimetype": "text/x-python",
   "name": "python",
   "nbconvert_exporter": "python",
   "pygments_lexer": "ipython3",
   "version": "3.12.3"
  }
 },
 "nbformat": 4,
 "nbformat_minor": 5
}
