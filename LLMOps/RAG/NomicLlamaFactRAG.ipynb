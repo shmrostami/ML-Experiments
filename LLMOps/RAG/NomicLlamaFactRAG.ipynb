{
 "cells": [
  {
   "cell_type": "code",
   "execution_count": null,
   "id": "3ac8a2e5",
   "metadata": {},
   "outputs": [],
   "source": [
    "# Embedding with nomic-embed-text and retieve with llm\n",
    "\n",
    "import os\n",
    "from langchain_community.document_loaders import TextLoader\n",
    "from langchain.text_splitter import CharacterTextSplitter\n",
    "from langchain_chroma import Chroma\n",
    "from langchain_ollama import OllamaEmbeddings\n",
    "from langchain.chains import RetrievalQA\n",
    "from langchain_ollama import OllamaLLM"
   ]
  },
  {
   "cell_type": "code",
   "execution_count": null,
   "id": "01034d41",
   "metadata": {},
   "outputs": [],
   "source": [
    "# --------------------\n",
    "# Setup\n",
    "# --------------------\n",
    "os.environ.setdefault(\"no_proxy\", \"127.0.0.1,localhost\")\n",
    "os.environ.setdefault(\"HTTPX_NO_PROXY\", \"127.0.0.1,localhost\")\n",
    "\n",
    "persist_dir = \"nomic-emb\"\n",
    "embeddings = OllamaEmbeddings(model=\"nomic-embed-text\")\n",
    "\n",
    "# Load documents only if we need to create embeddings\n",
    "if not os.path.exists(persist_dir) or not os.listdir(persist_dir):\n",
    "    print(\"⚡ No existing DB found. Creating new embeddings...\")\n",
    "\n",
    "    # Load and split text\n",
    "    loader = TextLoader(\"facts.txt\")\n",
    "    docs = loader.load()\n",
    "    text_splitter = CharacterTextSplitter(\n",
    "        separator=\"\\n\",\n",
    "        chunk_size=200,\n",
    "        chunk_overlap=50\n",
    "    )\n",
    "    docs = text_splitter.split_documents(docs)\n",
    "\n",
    "    # Create Chroma DB and persist\n",
    "    db = Chroma.from_documents(\n",
    "        documents=docs,\n",
    "        embedding=embeddings,\n",
    "        persist_directory=persist_dir\n",
    "    )\n",
    "else:\n",
    "    print(\"✅ Found existing DB. Loading without re-embedding...\")\n",
    "    db = Chroma(\n",
    "        persist_directory=persist_dir,\n",
    "        embedding_function=embeddings\n",
    "    )"
   ]
  },
  {
   "cell_type": "code",
   "execution_count": null,
   "id": "84284b91",
   "metadata": {},
   "outputs": [],
   "source": [
    "# --------------------\n",
    "# Run a test query\n",
    "# --------------------\n",
    "query = \"What is an interesting fact about the English language?\"\n",
    "\n",
    "# Create retriever\n",
    "retriever = db.as_retriever(search_kwargs={\"k\": 3})\n",
    "\n",
    "OLLAMA_URL = os.getenv(\"OLLAMA_URL\", \"http://127.0.0.1:11434\")\n",
    "model_name = \"llama3.2:3b\"\n",
    "chat = OllamaLLM(model=model_name, base_url=OLLAMA_URL, timeout=30)\n",
    "\n",
    "chain = RetrievalQA.from_chain_type(\n",
    "    llm=chat,\n",
    "    retriever=retriever,\n",
    "    chain_type=\"stuff\"\n",
    ")\n",
    "\n",
    "result = chain.invoke(query)\n",
    "print(result)"
   ]
  }
 ],
 "metadata": {
  "language_info": {
   "name": "python"
  }
 },
 "nbformat": 4,
 "nbformat_minor": 5
}
